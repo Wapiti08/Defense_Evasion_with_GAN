{
 "cells": [
  {
   "cell_type": "markdown",
   "metadata": {},
   "source": [
    "# The N-gram will be applied on all registry strings"
   ]
  },
  {
   "cell_type": "markdown",
   "metadata": {},
   "source": [
    "## 1.Used to save the registry_features_list for both normal and ransom"
   ]
  },
  {
   "cell_type": "code",
   "execution_count": 4,
   "metadata": {},
   "outputs": [],
   "source": [
    "import pickle\n",
    "import itertools\n",
    "import sys\n",
    "\n",
    "ransome_features = './feature_ransom.txt'\n",
    "normal_features = './feature_normal.txt'"
   ]
  },
  {
   "cell_type": "code",
   "execution_count": 5,
   "metadata": {},
   "outputs": [],
   "source": [
    "def features_fields(features_txt):\n",
    "    features_list = []\n",
    "    stop =sum(1 for line in open(features_txt, 'r'))\n",
    "    # feature = open(\"features_normal.txt\",\"r\",encoding=\"utf-8\")\n",
    "    with open(features_txt,\"r\") as fr:\n",
    "        feature = fr.readlines()    \n",
    "        for ind in itertools.islice(feature , stop):\n",
    "            fields = ind.split(':', 1)\n",
    "            features_list.append(fields[1])\n",
    "        return features_list"
   ]
  },
  {
   "cell_type": "code",
   "execution_count": 6,
   "metadata": {},
   "outputs": [],
   "source": [
    "normal_features_list = features_fields('../dataset/features_normal.txt')"
   ]
  },
  {
   "cell_type": "code",
   "execution_count": 7,
   "metadata": {},
   "outputs": [],
   "source": [
    "ransom_features_list = features_fields('../dataset/features_ransom.txt')"
   ]
  },
  {
   "cell_type": "code",
   "execution_count": null,
   "metadata": {},
   "outputs": [],
   "source": [
    "# extract the regkey parts from both features_list\n",
    "for feature in normal_features_list:\n",
    "    if feature[:7] != 'regkey':\n",
    "        normal_features_list.remove(feature)\n",
    "for feature in ransom_features_list:\n",
    "    if feature[:7] != 'regkey':\n",
    "        ransom_features_list.remove(feature)\n"
   ]
  },
  {
   "cell_type": "code",
   "execution_count": null,
   "metadata": {},
   "outputs": [],
   "source": [
    "# save the registry features with titles\n",
    "with open('../dataset/registry_features/nor_registry_features.pkl','wb') as nw:\n",
    "    pickle.dump(normal_features_list, nw)\n",
    "with open('../dataset/registry_features/ran_registry_features.pkl','wb') as rw:\n",
    "    pickle.dump(ransom_features_list, rw)"
   ]
  },
  {
   "cell_type": "markdown",
   "metadata": {},
   "source": [
    "## 2.Used to analyse the saved features results"
   ]
  },
  {
   "cell_type": "code",
   "execution_count": null,
   "metadata": {},
   "outputs": [],
   "source": [
    "from nltk import ngrams\n",
    "from nltk import FreqDist\n",
    "import pandas as pd\n",
    "\n",
    "def ngram_fre_analysis(n, features_list):\n",
    "    ngrams_list = []\n",
    "    for feature in features_list:\n",
    "        grams = ngrams(feature.split(\"\\\\\"),n)\n",
    "        for gram in grams:\n",
    "            ngrams_list.append(gram)\n",
    "    \n",
    "    ngrams_freqdist = FreqDist(ngrams_list)\n",
    "    return ngrams_freqdist"
   ]
  },
  {
   "cell_type": "code",
   "execution_count": null,
   "metadata": {},
   "outputs": [],
   "source": [
    "# read the normal_features_list\n",
    "with open('../dataset/registry_features/nor_registry_features.pkl','rb') as wr:\n",
    "    normal_features_list = pickle.load(wr)\n",
    "\n",
    "# read the ransom_featuers_list\n",
    "with open('../dataset/registry_features/ran_registry_features.pkl','rb') as wr:\n",
    "    ransom_features_list = pickle.load(wr)"
   ]
  },
  {
   "cell_type": "code",
   "execution_count": null,
   "metadata": {},
   "outputs": [],
   "source": [
    "# get the fre of three ngrams for two sets of features\n",
    "thr_ngrams_freqdist_nor = ngram_fre_analysis(3, normal_features_list)\n",
    "thr_ngrams_freqdist_ran = ngram_fre_analysis(3, ransom_features_list)"
   ]
  },
  {
   "cell_type": "code",
   "execution_count": null,
   "metadata": {},
   "outputs": [],
   "source": [
    "dict(thr_ngrams_freqdist_nor)"
   ]
  },
  {
   "cell_type": "markdown",
   "metadata": {},
   "source": [
    "## 3.Visualized Analysis for Three ngrams data"
   ]
  },
  {
   "cell_type": "code",
   "execution_count": null,
   "metadata": {},
   "outputs": [],
   "source": [
    "fd_nor = pd.DataFrame(thr_ngrams_freqdist_nor.keys())\n",
    "fd_nor['frequency'] = thr_ngrams_freqdist_nor.values()\n",
    "cols = [0,1,2]\n",
    "fd_nor['features'] = fd_nor[cols].apply(lambda row: ','.join(row.values.astype(str)), axis=1)\n",
    "fd_nor = fd_nor.sort_values(by=['frequency'], ascending=False)\n",
    "fd_nor = fd_nor[['features','frequency']]\n",
    "fd_nor.reset_index()\n",
    "fd_nor"
   ]
  },
  {
   "cell_type": "code",
   "execution_count": null,
   "metadata": {},
   "outputs": [],
   "source": [
    "fd_ran = pd.DataFrame(thr_ngrams_freqdist_ran.keys())\n",
    "fd_ran['frequency'] = thr_ngrams_freqdist_ran.values()\n",
    "cols = [0,1,2]\n",
    "fd_ran['features'] = fd_ran[cols].apply(lambda row: ','.join(row.values.astype(str)), axis=1)\n",
    "fd_ran = fd_ran.sort_values(by=['frequency'], ascending=False)\n",
    "fd_ran.reset_index()\n",
    "fd_ran = fd_ran[['features','frequency']]\n",
    "fd_ran"
   ]
  },
  {
   "cell_type": "markdown",
   "metadata": {},
   "source": [
    "add rank for the ransomware behavior dataframe "
   ]
  },
  {
   "cell_type": "code",
   "execution_count": null,
   "metadata": {},
   "outputs": [],
   "source": [
    "ransom_rank = range(1,len(fd_ran)+1)\n",
    "fd_ran['rank'] = ransom_rank\n",
    "fd_ran"
   ]
  },
  {
   "cell_type": "markdown",
   "metadata": {},
   "source": [
    "add rank for the normal behavior dataframe"
   ]
  },
  {
   "cell_type": "code",
   "execution_count": null,
   "metadata": {},
   "outputs": [],
   "source": [
    "normal_rank = range(1,len(fd_nor)+1)\n",
    "fd_nor['rank'] = normal_rank\n",
    "fd_nor"
   ]
  },
  {
   "cell_type": "markdown",
   "metadata": {},
   "source": [
    "find the unique features in ransome behavior while not in normal behavior"
   ]
  },
  {
   "cell_type": "code",
   "execution_count": null,
   "metadata": {},
   "outputs": [],
   "source": [
    "fd_ran[~fd_ran.features.isin(fd_nor['features'])].reset_index()"
   ]
  },
  {
   "cell_type": "markdown",
   "metadata": {},
   "source": [
    "compare the ranks for the some features in two datasets"
   ]
  },
  {
   "cell_type": "code",
   "execution_count": null,
   "metadata": {},
   "outputs": [],
   "source": [
    "thr_feature_ranks = fd_ran[['features','rank']].merge(fd_nor[['features','rank']], on=['features'])\n",
    "thr_feature_ranks.iloc[:194,:]\n"
   ]
  },
  {
   "cell_type": "markdown",
   "metadata": {},
   "source": [
    "compare the frequencies for the some features in two datasets"
   ]
  },
  {
   "cell_type": "code",
   "execution_count": null,
   "metadata": {},
   "outputs": [],
   "source": [
    "thr_feature_freqs = fd_ran[['features','frequency']].merge(fd_nor[['features','frequency']], on=['features'])\n",
    "thr_feature_freqs\n"
   ]
  },
  {
   "cell_type": "code",
   "execution_count": null,
   "metadata": {},
   "outputs": [],
   "source": [
    "thr_feature_ranks_com[thr_feature_ranks_com['frequency_x']>191]"
   ]
  },
  {
   "cell_type": "code",
   "execution_count": null,
   "metadata": {},
   "outputs": [],
   "source": [
    "thr_ngrams_freqdist_ran"
   ]
  },
  {
   "cell_type": "markdown",
   "metadata": {},
   "source": [
    "## 4.Visualized Analysis for Four ngrams data"
   ]
  },
  {
   "cell_type": "code",
   "execution_count": null,
   "metadata": {},
   "outputs": [],
   "source": [
    "# get the fre of four ngrams for two sets of features\n",
    "four_ngrams_freqdist_nor = ngram_fre_analysis(4, normal_features_list)\n",
    "four_ngrams_freqdist_ran = ngram_fre_analysis(4, ransom_features_list)"
   ]
  },
  {
   "cell_type": "code",
   "execution_count": null,
   "metadata": {},
   "outputs": [],
   "source": [
    "four_ngrams_freqdist_nor"
   ]
  },
  {
   "cell_type": "code",
   "execution_count": null,
   "metadata": {},
   "outputs": [],
   "source": [
    "four_ngrams_freqdist_ran"
   ]
  },
  {
   "cell_type": "markdown",
   "metadata": {},
   "source": [
    "## 5.Visualized analysis for four ngrams data"
   ]
  },
  {
   "cell_type": "code",
   "execution_count": null,
   "metadata": {},
   "outputs": [],
   "source": [
    "fd_nor_four = pd.DataFrame(four_ngrams_freqdist_nor.keys())\n",
    "fd_nor_four['frequency'] = four_ngrams_freqdist_nor.values()\n",
    "cols = [0,1,2,3]\n",
    "fd_nor_four['features'] = fd_nor_four[cols].apply(lambda row: ','.join(row.values.astype(str)), axis=1)\n",
    "fd_nor_four = fd_nor_four.sort_values(by=['frequency'], ascending=False)\n",
    "fd_nor_four = fd_nor_four[['features','frequency']]\n",
    "fd_nor_four.reset_index()\n",
    "fd_nor_four"
   ]
  },
  {
   "cell_type": "markdown",
   "metadata": {},
   "source": [
    "create the feature dataframe for ransom behavior"
   ]
  },
  {
   "cell_type": "code",
   "execution_count": null,
   "metadata": {},
   "outputs": [],
   "source": [
    "fd_ran_four = pd.DataFrame(four_ngrams_freqdist_ran.keys())\n",
    "fd_ran_four['frequency'] = four_ngrams_freqdist_ran.values()\n",
    "cols = [0,1,2,3]\n",
    "fd_ran_four['features'] = fd_ran_four[cols].apply(lambda row: ','.join(row.values.astype(str)), axis=1)\n",
    "fd_ran_four = fd_ran_four.sort_values(by=['frequency'], ascending=False)\n",
    "fd_ran_four.reset_index()\n",
    "fd_ran_four = fd_ran_four[['features','frequency']]\n",
    "fd_ran_four"
   ]
  },
  {
   "cell_type": "markdown",
   "metadata": {},
   "source": [
    "create the frequency dataframe for normal features"
   ]
  },
  {
   "cell_type": "code",
   "execution_count": null,
   "metadata": {},
   "outputs": [],
   "source": [
    "fd_nor_four = pd.DataFrame(four_ngrams_freqdist_nor.keys())\n",
    "fd_nor_four['frequency'] = four_ngrams_freqdist_nor.values()\n",
    "cols = [0,1,2,3]\n",
    "fd_nor_four['features'] = fd_nor_four[cols].apply(lambda row: ','.join(row.values.astype(str)), axis=1)\n",
    "fd_nor_four = fd_nor_four.sort_values(by=['frequency'], ascending=False)\n",
    "fd_nor_four.reset_index()\n",
    "fd_nor_four = fd_nor_four[['features','frequency']]\n",
    "fd_nor_four"
   ]
  },
  {
   "cell_type": "markdown",
   "metadata": {},
   "source": [
    "create the rank for two dataframe"
   ]
  },
  {
   "cell_type": "code",
   "execution_count": null,
   "metadata": {},
   "outputs": [],
   "source": [
    "normal_rank = range(1,len(fd_nor_four)+1)\n",
    "fd_nor_four['rank'] = normal_rank\n",
    "fd_nor_four\n",
    "\n",
    "ransom_rank = range(1,len(fd_ran_four)+1)\n",
    "fd_ran_four['rank'] = ransom_rank\n",
    "fd_ran_four\n"
   ]
  },
  {
   "cell_type": "code",
   "execution_count": null,
   "metadata": {
    "scrolled": true
   },
   "outputs": [],
   "source": [
    "four_feature_ranks = fd_ran_four[['features','rank']].merge(fd_nor_four[['features','rank']], on=['features'])\n",
    "four_feature_ranks.iloc[:194,:]"
   ]
  },
  {
   "cell_type": "markdown",
   "metadata": {},
   "source": [
    "# Find the unique strings in ransomware activities"
   ]
  },
  {
   "cell_type": "markdown",
   "metadata": {},
   "source": [
    "### Four-Gram analysis"
   ]
  },
  {
   "cell_type": "code",
   "execution_count": null,
   "metadata": {},
   "outputs": [],
   "source": [
    "fd_ran_four[~fd_ran_four.features.isin(fd_nor_four['features'])].reset_index()"
   ]
  },
  {
   "cell_type": "code",
   "execution_count": null,
   "metadata": {},
   "outputs": [],
   "source": [
    "fd_ran_four[~fd_ran_four.features.isin(fd_nor_four['features'])][fd_ran_four['frequency']==1].reset_index()"
   ]
  },
  {
   "cell_type": "code",
   "execution_count": null,
   "metadata": {},
   "outputs": [],
   "source": [
    "fd_ran_four[~fd_ran_four.features.isin(fd_nor_four['features'])][fd_ran_four['frequency']<=191].reset_index()"
   ]
  },
  {
   "cell_type": "markdown",
   "metadata": {},
   "source": [
    "### Three-Gram analysis"
   ]
  },
  {
   "cell_type": "code",
   "execution_count": null,
   "metadata": {},
   "outputs": [],
   "source": [
    "fd_ran[~fd_ran.features.isin(fd_nor['features'])].reset_index()"
   ]
  },
  {
   "cell_type": "code",
   "execution_count": null,
   "metadata": {},
   "outputs": [],
   "source": [
    "fd_ran[~fd_ran.features.isin(fd_nor['features'])][fd_ran['frequency']<=191].reset_index()"
   ]
  },
  {
   "cell_type": "code",
   "execution_count": null,
   "metadata": {},
   "outputs": [],
   "source": [
    "fd_ran[~fd_ran.features.isin(fd_nor['features'])][fd_ran['frequency']==1].reset_index()"
   ]
  },
  {
   "cell_type": "code",
   "execution_count": null,
   "metadata": {},
   "outputs": [],
   "source": []
  }
 ],
 "metadata": {
  "kernelspec": {
   "display_name": "Python 3.8.1 64-bit",
   "language": "python",
   "name": "python38164bitdbd76ed984a5488496eb976b9e8b3b8e"
  },
  "language_info": {
   "codemirror_mode": {
    "name": "ipython",
    "version": 3
   },
   "file_extension": ".py",
   "mimetype": "text/x-python",
   "name": "python",
   "nbconvert_exporter": "python",
   "pygments_lexer": "ipython3",
   "version": "3.8.1"
  }
 },
 "nbformat": 4,
 "nbformat_minor": 4
}
