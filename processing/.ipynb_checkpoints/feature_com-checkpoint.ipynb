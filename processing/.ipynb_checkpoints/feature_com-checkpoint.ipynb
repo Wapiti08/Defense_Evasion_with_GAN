{
 "cells": [
  {
   "cell_type": "code",
   "execution_count": 3,
   "metadata": {},
   "outputs": [
    {
     "data": {
      "text/plain": [
       "122334"
      ]
     },
     "execution_count": 3,
     "metadata": {},
     "output_type": "execute_result"
    }
   ],
   "source": [
    "import pickle\n",
    "\n",
    "# filename = \"E:/Analysis-on-GAN/feature_all/feature_dict_ransom.pkl\"\n",
    "filename = \"E:/Analysis-on-GAN/feature_all/feature_dict_normal.pkl\"\n",
    "with open(filename, \"rb\") as fr:\n",
    "    feature_dict_ransom = pickle.load(fr)\n",
    "\n",
    "\n",
    "# create the key_value feature\n",
    "feature_list = []\n",
    "for key, value in feature_dict_ransom.items():\n",
    "    # value here is a list for the corresponding key\n",
    "    for item in value:    \n",
    "        feature = str(key) + '_' + str(item)\n",
    "        feature_list.append(feature) \n",
    "len(feature_list)"
   ]
  },
  {
   "cell_type": "code",
   "execution_count": 4,
   "metadata": {},
   "outputs": [],
   "source": [
    "feature_list_dict = {}\n",
    "header_dict = {1:'ID',\n",
    "            2:'Label',\n",
    "            3:'Ransomware_Family'}\n",
    "\n",
    "# define the initialized order for features\n",
    "i = 4             \n",
    "\n",
    "with open('features_normal.txt','w') as fw:\n",
    "    for key, value in header_dict.items():\n",
    "        fw.write(str(key)+\":\"+str(value)+'\\n')\n",
    "    for feature in feature_list:\n",
    "        fw.write(str(i)+\":\"+feature+'\\n')\n",
    "        i += 1"
   ]
  },
  {
   "cell_type": "code",
   "execution_count": null,
   "metadata": {},
   "outputs": [],
   "source": []
  }
 ],
 "metadata": {
  "file_extension": ".py",
  "kernelspec": {
   "display_name": "Python 3.8.1 64-bit",
   "language": "python",
   "name": "python38164bitdbd76ed984a5488496eb976b9e8b3b8e"
  },
  "language_info": {
   "codemirror_mode": {
    "name": "ipython",
    "version": 3
   },
   "file_extension": ".py",
   "mimetype": "text/x-python",
   "name": "python",
   "nbconvert_exporter": "python",
   "pygments_lexer": "ipython3",
   "version": "3.8.1"
  },
  "mimetype": "text/x-python",
  "name": "python",
  "npconvert_exporter": "python",
  "pygments_lexer": "ipython3",
  "version": 3
 },
 "nbformat": 4,
 "nbformat_minor": 2
}
