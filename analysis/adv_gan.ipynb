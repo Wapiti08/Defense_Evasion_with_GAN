{
 "cells": [
  {
   "cell_type": "markdown",
   "metadata": {},
   "source": [
    "Perform GAN on 1D array"
   ]
  },
  {
   "cell_type": "code",
   "execution_count": 40,
   "metadata": {},
   "outputs": [],
   "source": [
    "# test on occurence dataset\n",
    "import numpy as np\n",
    "\n",
    "# X = np.loadtxt('../dataset/matrix/X_occ.csv')\n",
    "# X = np.loadtxt('../dataset/matrix/X_fs.csv')\n",
    "# X = np.loadtxt('../dataset/matrix/X_str.csv')\n",
    "# X = np.loadtxt('../dataset/matrix/X_tf_idf_sen.csv')\n",
    "X = np.loadtxt('../dataset/matrix/X_tf_idf_token.csv')\n",
    "\n",
    "Y = np.loadtxt('../dataset/matrix/Y_str.csv')\n"
   ]
  },
  {
   "cell_type": "code",
   "execution_count": 41,
   "metadata": {},
   "outputs": [
    {
     "name": "stdout",
     "output_type": "stream",
     "text": [
      "(321, 125326)\n",
      "(321,)\n"
     ]
    },
    {
     "data": {
      "text/plain": [
       "Counter({1.0: 179, 0.0: 142})"
      ]
     },
     "execution_count": 41,
     "metadata": {},
     "output_type": "execute_result"
    }
   ],
   "source": [
    "print(X.shape)\n",
    "print(Y.shape)\n",
    "from collections import Counter\n",
    "\n",
    "Counter(Y)"
   ]
  },
  {
   "cell_type": "code",
   "execution_count": 42,
   "metadata": {},
   "outputs": [
    {
     "name": "stdout",
     "output_type": "stream",
     "text": [
      "Model: \"sequential_7\"\n",
      "_________________________________________________________________\n",
      " Layer (type)                Output Shape              Param #   \n",
      "=================================================================\n",
      " dense_21 (Dense)            (None, 32)                4010464   \n",
      "                                                                 \n",
      " dense_22 (Dense)            (None, 32)                1056      \n",
      "                                                                 \n",
      " dense_23 (Dense)            (None, 1)                 33        \n",
      "                                                                 \n",
      "=================================================================\n",
      "Total params: 4,011,553\n",
      "Trainable params: 4,011,553\n",
      "Non-trainable params: 0\n",
      "_________________________________________________________________\n"
     ]
    }
   ],
   "source": [
    "# build the discriminator\n",
    "from keras import Sequential\n",
    "from keras import layers \n",
    "from keras.callbacks import EarlyStopping\n",
    "\n",
    "def create_model(input_dim):\n",
    "    model = Sequential()\n",
    "    model.add(layers.Dense(32, input_dim=input_dim, activation='relu'))\n",
    "    model.add(layers.Dense(32, activation='relu'))\n",
    "    model.add(layers.Dense(1, activation='sigmoid'))\n",
    "    model.compile(loss='binary_crossentropy', optimizer='adam', metrics=['accuracy'])\n",
    "    \n",
    "    return model\n",
    "\n",
    "model = create_model(X.shape[1])\n",
    "model.summary()"
   ]
  },
  {
   "cell_type": "code",
   "execution_count": 43,
   "metadata": {},
   "outputs": [],
   "source": [
    "from numpy.random import rand\n",
    "\n",
    "# define the function to generate fake examples\n",
    "def gen_fake_samples_alone(dim, examples):\n",
    "    X = np.zeros((examples, dim))\n",
    "    for i in range(examples):\n",
    "        X[i] = rand(dim)\n",
    "    \n",
    "    Y = np.zeros((examples,1))\n",
    "\n",
    "    return np.array(X), Y"
   ]
  },
  {
   "cell_type": "code",
   "execution_count": 44,
   "metadata": {},
   "outputs": [],
   "source": [
    "# train the discriminator on both real and fake examples\n",
    "def train_cls(epochs, batches, max, model, real_x, real_y):\n",
    "    half_batch = int(batches/2)\n",
    "\n",
    "    for i in range(epochs):\n",
    "        if i*half_batch < max:\n",
    "            # update the model with real dataset\n",
    "            model.train_on_batch(real_x[half_batch*i:half_batch*(i+1)], real_y[half_batch*i:half_batch*(i+1)])\n",
    "\n",
    "            # generate fake examples\n",
    "            X_fake, Y_fake = gen_fake_samples_alone(real_x.shape[1], half_batch)\n",
    "            # update on fake datasets\n",
    "            model.train_on_batch(X_fake, Y_fake)\n",
    "            \n",
    "            _, acc_real = model.evaluate(real_x, real_y, verbose=0)\n",
    "            \n",
    "            _, acc_fake = model.evaluate(X_fake, Y_fake, verbose=0)\n",
    "            \n",
    "            print(i, acc_real, acc_fake)\n",
    "\n"
   ]
  },
  {
   "cell_type": "code",
   "execution_count": 46,
   "metadata": {},
   "outputs": [
    {
     "name": "stdout",
     "output_type": "stream",
     "text": [
      "0 0.5576323866844177 1.0\n",
      "1 0.5576323866844177 1.0\n",
      "2 0.5576323866844177 1.0\n",
      "3 0.5576323866844177 1.0\n",
      "4 0.5576323866844177 1.0\n",
      "5 0.5576323866844177 1.0\n",
      "6 0.5576323866844177 1.0\n",
      "7 0.5576323866844177 1.0\n",
      "8 0.5576323866844177 1.0\n",
      "9 0.5576323866844177 1.0\n",
      "10 0.5576323866844177 1.0\n",
      "11 0.5576323866844177 1.0\n",
      "12 0.5576323866844177 1.0\n",
      "13 0.5576323866844177 1.0\n",
      "14 0.5576323866844177 1.0\n",
      "15 0.5576323866844177 1.0\n",
      "16 0.5576323866844177 1.0\n",
      "17 0.5576323866844177 1.0\n",
      "18 0.5576323866844177 1.0\n",
      "19 0.5576323866844177 1.0\n",
      "20 0.5576323866844177 1.0\n",
      "21 0.5576323866844177 1.0\n",
      "22 0.5576323866844177 1.0\n",
      "23 0.5576323866844177 1.0\n",
      "24 0.5576323866844177 1.0\n",
      "25 0.5576323866844177 1.0\n",
      "26 0.5576323866844177 1.0\n",
      "27 0.5576323866844177 1.0\n",
      "28 0.5576323866844177 1.0\n",
      "29 0.5576323866844177 1.0\n",
      "30 0.5576323866844177 1.0\n",
      "31 0.5576323866844177 1.0\n",
      "32 0.5576323866844177 1.0\n",
      "33 0.5576323866844177 1.0\n",
      "34 0.5576323866844177 1.0\n",
      "35 0.5576323866844177 1.0\n"
     ]
    }
   ],
   "source": [
    "# fit the model\n",
    "train_cls(1000, 10, 179, model, X, Y)"
   ]
  },
  {
   "cell_type": "markdown",
   "metadata": {},
   "source": [
    "Build the basic GAN Model"
   ]
  },
  {
   "cell_type": "code",
   "execution_count": 58,
   "metadata": {},
   "outputs": [],
   "source": [
    "def gen_generator(n_outputs, n_latent):\n",
    "    model = Sequential()\n",
    "    model.add(layers.Dense(32, input_dim=n_latent, kernel_initializer='he_uniform', activation='relu'))\n",
    "    model.add(layers.Dense(n_outputs, activation='linear'))\n",
    "    print('Summary for generator model: ', model.summary())\n",
    "    \n",
    "    return model\n",
    "\n",
    "# build standalone discriminator\n",
    "def gen_discriminator(n_inputs):\n",
    "    model = Sequential()\n",
    "    model.add(layers.Dense(32, input_dim = n_inputs, activation='relu', kernel_initializer='he_uniform'))\n",
    "    model.add(layers.Dense(1, activation='sigmoid'))\n",
    "    model.compile(loss='binary_crossentropy', optimizer='adam', metrics=['accuracy'])\n",
    "    print('Summary for discriminator model: ',model.summary())\n",
    "\n",
    "    return model\n",
    "\n",
    "def gen_gan(generator, discriminator):\n",
    "    # set the trainiable as False\n",
    "    discriminator.trainable=False\n",
    "    \n",
    "    model = Sequential()\n",
    "    model.add(generator)\n",
    "    model.add(discriminator)\n",
    "    model.compile(loss='binary_crossentropy', optimizer='adam')\n",
    "\n",
    "    return model"
   ]
  },
  {
   "cell_type": "code",
   "execution_count": 63,
   "metadata": {},
   "outputs": [],
   "source": [
    "# build the generator model\n",
    "\n",
    "def gen_latent_points(latent_dim, n):\n",
    "    x = rand(latent_dim * n)\n",
    "    x.reshape((n, latent_dim))\n",
    "\n",
    "    return x\n",
    "\n",
    "def gen_fake_samples(generator, latent_dim, n):\n",
    "    inputs = gen_latent_points(latent_dim, n)\n",
    "    X = generator.predict(inputs)\n",
    "    print(X)\n",
    "    return X"
   ]
  },
  {
   "cell_type": "code",
   "execution_count": 68,
   "metadata": {},
   "outputs": [
    {
     "name": "stdout",
     "output_type": "stream",
     "text": [
      "Model: \"sequential_32\"\n",
      "_________________________________________________________________\n",
      " Layer (type)                Output Shape              Param #   \n",
      "=================================================================\n",
      " dense_56 (Dense)            (None, 32)                192       \n",
      "                                                                 \n",
      " dense_57 (Dense)            (None, 125326)            4135758   \n",
      "                                                                 \n",
      "=================================================================\n",
      "Total params: 4,135,950\n",
      "Trainable params: 4,135,950\n",
      "Non-trainable params: 0\n",
      "_________________________________________________________________\n",
      "Summary for generator model:  None\n",
      "WARNING:tensorflow:Model was constructed with shape (None, 5) for input KerasTensor(type_spec=TensorSpec(shape=(None, 5), dtype=tf.float32, name='dense_56_input'), name='dense_56_input', description=\"created by layer 'dense_56_input'\"), but it was called on an input with incompatible shape (None,).\n"
     ]
    },
    {
     "ename": "ValueError",
     "evalue": "in user code:\n\n    File \"C:\\Users\\ren\\AppData\\Local\\Programs\\Python\\Python38\\lib\\site-packages\\keras\\engine\\training.py\", line 1801, in predict_function  *\n        return step_function(self, iterator)\n    File \"C:\\Users\\ren\\AppData\\Local\\Programs\\Python\\Python38\\lib\\site-packages\\keras\\engine\\training.py\", line 1790, in step_function  **\n        outputs = model.distribute_strategy.run(run_step, args=(data,))\n    File \"C:\\Users\\ren\\AppData\\Local\\Programs\\Python\\Python38\\lib\\site-packages\\keras\\engine\\training.py\", line 1783, in run_step  **\n        outputs = model.predict_step(data)\n    File \"C:\\Users\\ren\\AppData\\Local\\Programs\\Python\\Python38\\lib\\site-packages\\keras\\engine\\training.py\", line 1751, in predict_step\n        return self(x, training=False)\n    File \"C:\\Users\\ren\\AppData\\Local\\Programs\\Python\\Python38\\lib\\site-packages\\keras\\utils\\traceback_utils.py\", line 67, in error_handler\n        raise e.with_traceback(filtered_tb) from None\n    File \"C:\\Users\\ren\\AppData\\Local\\Programs\\Python\\Python38\\lib\\site-packages\\keras\\engine\\input_spec.py\", line 228, in assert_input_compatibility\n        raise ValueError(f'Input {input_index} of layer \"{layer_name}\" '\n\n    ValueError: Exception encountered when calling layer \"sequential_32\" (type Sequential).\n    \n    Input 0 of layer \"dense_56\" is incompatible with the layer: expected min_ndim=2, found ndim=1. Full shape received: (None,)\n    \n    Call arguments received:\n      • inputs=tf.Tensor(shape=(None,), dtype=float32)\n      • training=False\n      • mask=None\n",
     "output_type": "error",
     "traceback": [
      "\u001b[1;31m---------------------------------------------------------------------------\u001b[0m",
      "\u001b[1;31mValueError\u001b[0m                                Traceback (most recent call last)",
      "\u001b[1;32me:\\open_source_projects\\Analysis_Ransome_with_GAN\\analysis\\adv_gan.ipynb Cell 11'\u001b[0m in \u001b[0;36m<module>\u001b[1;34m\u001b[0m\n\u001b[0;32m      <a href='vscode-notebook-cell:/e%3A/open_source_projects/Analysis_Ransome_with_GAN/analysis/adv_gan.ipynb#ch0000017?line=0'>1</a>\u001b[0m g_model \u001b[39m=\u001b[39m gen_generator(X\u001b[39m.\u001b[39mshape[\u001b[39m1\u001b[39m], \u001b[39m5\u001b[39m)\n\u001b[1;32m----> <a href='vscode-notebook-cell:/e%3A/open_source_projects/Analysis_Ransome_with_GAN/analysis/adv_gan.ipynb#ch0000017?line=1'>2</a>\u001b[0m gen_fake_samples(g_model, \u001b[39m5\u001b[39;49m, \u001b[39m5\u001b[39;49m)\n",
      "\u001b[1;32me:\\open_source_projects\\Analysis_Ransome_with_GAN\\analysis\\adv_gan.ipynb Cell 10'\u001b[0m in \u001b[0;36mgen_fake_samples\u001b[1;34m(generator, latent_dim, n)\u001b[0m\n\u001b[0;32m      <a href='vscode-notebook-cell:/e%3A/open_source_projects/Analysis_Ransome_with_GAN/analysis/adv_gan.ipynb#ch0000012?line=8'>9</a>\u001b[0m \u001b[39mdef\u001b[39;00m \u001b[39mgen_fake_samples\u001b[39m(generator, latent_dim, n):\n\u001b[0;32m     <a href='vscode-notebook-cell:/e%3A/open_source_projects/Analysis_Ransome_with_GAN/analysis/adv_gan.ipynb#ch0000012?line=9'>10</a>\u001b[0m     inputs \u001b[39m=\u001b[39m gen_latent_points(latent_dim, n)\n\u001b[1;32m---> <a href='vscode-notebook-cell:/e%3A/open_source_projects/Analysis_Ransome_with_GAN/analysis/adv_gan.ipynb#ch0000012?line=10'>11</a>\u001b[0m     X \u001b[39m=\u001b[39m generator\u001b[39m.\u001b[39;49mpredict(inputs)\n\u001b[0;32m     <a href='vscode-notebook-cell:/e%3A/open_source_projects/Analysis_Ransome_with_GAN/analysis/adv_gan.ipynb#ch0000012?line=11'>12</a>\u001b[0m     \u001b[39mprint\u001b[39m(X)\n\u001b[0;32m     <a href='vscode-notebook-cell:/e%3A/open_source_projects/Analysis_Ransome_with_GAN/analysis/adv_gan.ipynb#ch0000012?line=12'>13</a>\u001b[0m     \u001b[39mreturn\u001b[39;00m X\n",
      "File \u001b[1;32m~\\AppData\\Local\\Programs\\Python\\Python38\\lib\\site-packages\\keras\\utils\\traceback_utils.py:67\u001b[0m, in \u001b[0;36mfilter_traceback.<locals>.error_handler\u001b[1;34m(*args, **kwargs)\u001b[0m\n\u001b[0;32m     <a href='file:///c%3A/Users/ren/AppData/Local/Programs/Python/Python38/lib/site-packages/keras/utils/traceback_utils.py?line=64'>65</a>\u001b[0m \u001b[39mexcept\u001b[39;00m \u001b[39mException\u001b[39;00m \u001b[39mas\u001b[39;00m e:  \u001b[39m# pylint: disable=broad-except\u001b[39;00m\n\u001b[0;32m     <a href='file:///c%3A/Users/ren/AppData/Local/Programs/Python/Python38/lib/site-packages/keras/utils/traceback_utils.py?line=65'>66</a>\u001b[0m   filtered_tb \u001b[39m=\u001b[39m _process_traceback_frames(e\u001b[39m.\u001b[39m__traceback__)\n\u001b[1;32m---> <a href='file:///c%3A/Users/ren/AppData/Local/Programs/Python/Python38/lib/site-packages/keras/utils/traceback_utils.py?line=66'>67</a>\u001b[0m   \u001b[39mraise\u001b[39;00m e\u001b[39m.\u001b[39mwith_traceback(filtered_tb) \u001b[39mfrom\u001b[39;00m \u001b[39mNone\u001b[39m\n\u001b[0;32m     <a href='file:///c%3A/Users/ren/AppData/Local/Programs/Python/Python38/lib/site-packages/keras/utils/traceback_utils.py?line=67'>68</a>\u001b[0m \u001b[39mfinally\u001b[39;00m:\n\u001b[0;32m     <a href='file:///c%3A/Users/ren/AppData/Local/Programs/Python/Python38/lib/site-packages/keras/utils/traceback_utils.py?line=68'>69</a>\u001b[0m   \u001b[39mdel\u001b[39;00m filtered_tb\n",
      "File \u001b[1;32m~\\AppData\\Local\\Programs\\Python\\Python38\\lib\\site-packages\\tensorflow\\python\\framework\\func_graph.py:1147\u001b[0m, in \u001b[0;36mfunc_graph_from_py_func.<locals>.autograph_handler\u001b[1;34m(*args, **kwargs)\u001b[0m\n\u001b[0;32m   <a href='file:///c%3A/Users/ren/AppData/Local/Programs/Python/Python38/lib/site-packages/tensorflow/python/framework/func_graph.py?line=1144'>1145</a>\u001b[0m \u001b[39mexcept\u001b[39;00m \u001b[39mException\u001b[39;00m \u001b[39mas\u001b[39;00m e:  \u001b[39m# pylint:disable=broad-except\u001b[39;00m\n\u001b[0;32m   <a href='file:///c%3A/Users/ren/AppData/Local/Programs/Python/Python38/lib/site-packages/tensorflow/python/framework/func_graph.py?line=1145'>1146</a>\u001b[0m   \u001b[39mif\u001b[39;00m \u001b[39mhasattr\u001b[39m(e, \u001b[39m\"\u001b[39m\u001b[39mag_error_metadata\u001b[39m\u001b[39m\"\u001b[39m):\n\u001b[1;32m-> <a href='file:///c%3A/Users/ren/AppData/Local/Programs/Python/Python38/lib/site-packages/tensorflow/python/framework/func_graph.py?line=1146'>1147</a>\u001b[0m     \u001b[39mraise\u001b[39;00m e\u001b[39m.\u001b[39mag_error_metadata\u001b[39m.\u001b[39mto_exception(e)\n\u001b[0;32m   <a href='file:///c%3A/Users/ren/AppData/Local/Programs/Python/Python38/lib/site-packages/tensorflow/python/framework/func_graph.py?line=1147'>1148</a>\u001b[0m   \u001b[39melse\u001b[39;00m:\n\u001b[0;32m   <a href='file:///c%3A/Users/ren/AppData/Local/Programs/Python/Python38/lib/site-packages/tensorflow/python/framework/func_graph.py?line=1148'>1149</a>\u001b[0m     \u001b[39mraise\u001b[39;00m\n",
      "\u001b[1;31mValueError\u001b[0m: in user code:\n\n    File \"C:\\Users\\ren\\AppData\\Local\\Programs\\Python\\Python38\\lib\\site-packages\\keras\\engine\\training.py\", line 1801, in predict_function  *\n        return step_function(self, iterator)\n    File \"C:\\Users\\ren\\AppData\\Local\\Programs\\Python\\Python38\\lib\\site-packages\\keras\\engine\\training.py\", line 1790, in step_function  **\n        outputs = model.distribute_strategy.run(run_step, args=(data,))\n    File \"C:\\Users\\ren\\AppData\\Local\\Programs\\Python\\Python38\\lib\\site-packages\\keras\\engine\\training.py\", line 1783, in run_step  **\n        outputs = model.predict_step(data)\n    File \"C:\\Users\\ren\\AppData\\Local\\Programs\\Python\\Python38\\lib\\site-packages\\keras\\engine\\training.py\", line 1751, in predict_step\n        return self(x, training=False)\n    File \"C:\\Users\\ren\\AppData\\Local\\Programs\\Python\\Python38\\lib\\site-packages\\keras\\utils\\traceback_utils.py\", line 67, in error_handler\n        raise e.with_traceback(filtered_tb) from None\n    File \"C:\\Users\\ren\\AppData\\Local\\Programs\\Python\\Python38\\lib\\site-packages\\keras\\engine\\input_spec.py\", line 228, in assert_input_compatibility\n        raise ValueError(f'Input {input_index} of layer \"{layer_name}\" '\n\n    ValueError: Exception encountered when calling layer \"sequential_32\" (type Sequential).\n    \n    Input 0 of layer \"dense_56\" is incompatible with the layer: expected min_ndim=2, found ndim=1. Full shape received: (None,)\n    \n    Call arguments received:\n      • inputs=tf.Tensor(shape=(None,), dtype=float32)\n      • training=False\n      • mask=None\n"
     ]
    }
   ],
   "source": [
    "g_model = gen_generator(X.shape[1], 5)\n",
    "gen_fake_samples(g_model, 5, 5)"
   ]
  },
  {
   "cell_type": "code",
   "execution_count": 64,
   "metadata": {},
   "outputs": [],
   "source": [
    "# train the generator\n",
    "\n",
    "def train_gan(gan_model, latent_dim, n_epochs=10000, n_batch=128):\n",
    "\t# manually enumerate epochs\n",
    "\tfor i in range(n_epochs):\n",
    "\t\t# prepare points in latent space as input for the generator\n",
    "\t\tx_gan = gen_latent_points(latent_dim, n_batch)\n",
    "\t\t# create inverted labels for the fake samples\n",
    "\t\ty_gan = np.zeros((n_batch, 1))\n",
    "\t\t# update the generator via the discriminator's error\n",
    "\t\tgan_model.train_on_batch(x_gan, y_gan)\n",
    "\n",
    "\n",
    "def train_gan_com(n_epochs, n_batch, g_model, d_model, gan_model, latent_dim, real_x):\n",
    "\t# define the batches\n",
    "\thalf_batch = int(n_batch//2)\n",
    "\t# train with the epochs\n",
    "\tfor i in range(n_epochs):\n",
    "\t\t# genreate fake examples by generator\n",
    "\t\tfake_x = gen_fake_samples(g_model, latent_dim, half_batch)\n",
    "\t\t# 1 is the real malware class, 0 is the fake class\n",
    "\t\tfake_y = np.zeros((half_batch, 1))\n",
    "\t\treal_y = np.ones(half_batch, 1)\n",
    "\t\t# update distriminator with both real and fake examples\n",
    "\t\td_model.train_on_batch(real_x[half_batch*i:half_batch*(i+1)], real_y[half_batch*i:half_batch*(i+1)])\n",
    "\t\td_model.train_on_batch(fake_x, fake_y)\n",
    "\t\t# prepare points in latent space as input for the generator\n",
    "\t\tx_gan = gen_latent_points(latent_dim, n_batch)\n",
    "\t\t# create inverted labels for the fake samples\n",
    "\t\t# update the generator via the discriminator's error\n",
    "\t\tgan_model.train_on_batch(x_gan, fake_y)\n"
   ]
  },
  {
   "cell_type": "code",
   "execution_count": 67,
   "metadata": {},
   "outputs": [
    {
     "name": "stdout",
     "output_type": "stream",
     "text": [
      "Model: \"sequential_29\"\n",
      "_________________________________________________________________\n",
      " Layer (type)                Output Shape              Param #   \n",
      "=================================================================\n",
      " dense_52 (Dense)            (None, 32)                4010464   \n",
      "                                                                 \n",
      " dense_53 (Dense)            (None, 125326)            4135758   \n",
      "                                                                 \n",
      "=================================================================\n",
      "Total params: 8,146,222\n",
      "Trainable params: 8,146,222\n",
      "Non-trainable params: 0\n",
      "_________________________________________________________________\n",
      "Summary for generator model:  None\n",
      "Model: \"sequential_30\"\n",
      "_________________________________________________________________\n",
      " Layer (type)                Output Shape              Param #   \n",
      "=================================================================\n",
      " dense_54 (Dense)            (None, 32)                4010464   \n",
      "                                                                 \n",
      " dense_55 (Dense)            (None, 1)                 33        \n",
      "                                                                 \n",
      "=================================================================\n",
      "Total params: 4,010,497\n",
      "Trainable params: 4,010,497\n",
      "Non-trainable params: 0\n",
      "_________________________________________________________________\n",
      "Summary for discriminator model:  None\n",
      "WARNING:tensorflow:Model was constructed with shape (None, 125326) for input KerasTensor(type_spec=TensorSpec(shape=(None, 125326), dtype=tf.float32, name='dense_52_input'), name='dense_52_input', description=\"created by layer 'dense_52_input'\"), but it was called on an input with incompatible shape (None,).\n"
     ]
    },
    {
     "ename": "ValueError",
     "evalue": "in user code:\n\n    File \"C:\\Users\\ren\\AppData\\Local\\Programs\\Python\\Python38\\lib\\site-packages\\keras\\engine\\training.py\", line 1801, in predict_function  *\n        return step_function(self, iterator)\n    File \"C:\\Users\\ren\\AppData\\Local\\Programs\\Python\\Python38\\lib\\site-packages\\keras\\engine\\training.py\", line 1790, in step_function  **\n        outputs = model.distribute_strategy.run(run_step, args=(data,))\n    File \"C:\\Users\\ren\\AppData\\Local\\Programs\\Python\\Python38\\lib\\site-packages\\keras\\engine\\training.py\", line 1783, in run_step  **\n        outputs = model.predict_step(data)\n    File \"C:\\Users\\ren\\AppData\\Local\\Programs\\Python\\Python38\\lib\\site-packages\\keras\\engine\\training.py\", line 1751, in predict_step\n        return self(x, training=False)\n    File \"C:\\Users\\ren\\AppData\\Local\\Programs\\Python\\Python38\\lib\\site-packages\\keras\\utils\\traceback_utils.py\", line 67, in error_handler\n        raise e.with_traceback(filtered_tb) from None\n    File \"C:\\Users\\ren\\AppData\\Local\\Programs\\Python\\Python38\\lib\\site-packages\\keras\\engine\\input_spec.py\", line 228, in assert_input_compatibility\n        raise ValueError(f'Input {input_index} of layer \"{layer_name}\" '\n\n    ValueError: Exception encountered when calling layer \"sequential_29\" (type Sequential).\n    \n    Input 0 of layer \"dense_52\" is incompatible with the layer: expected min_ndim=2, found ndim=1. Full shape received: (None,)\n    \n    Call arguments received:\n      • inputs=tf.Tensor(shape=(None,), dtype=float32)\n      • training=False\n      • mask=None\n",
     "output_type": "error",
     "traceback": [
      "\u001b[1;31m---------------------------------------------------------------------------\u001b[0m",
      "\u001b[1;31mValueError\u001b[0m                                Traceback (most recent call last)",
      "\u001b[1;32me:\\open_source_projects\\Analysis_Ransome_with_GAN\\analysis\\adv_gan.ipynb Cell 12'\u001b[0m in \u001b[0;36m<module>\u001b[1;34m\u001b[0m\n\u001b[0;32m      <a href='vscode-notebook-cell:/e%3A/open_source_projects/Analysis_Ransome_with_GAN/analysis/adv_gan.ipynb#ch0000014?line=2'>3</a>\u001b[0m d_model \u001b[39m=\u001b[39m gen_discriminator(latent_dim)\n\u001b[0;32m      <a href='vscode-notebook-cell:/e%3A/open_source_projects/Analysis_Ransome_with_GAN/analysis/adv_gan.ipynb#ch0000014?line=3'>4</a>\u001b[0m gan_model \u001b[39m=\u001b[39m gen_gan(g_model, d_model)\n\u001b[1;32m----> <a href='vscode-notebook-cell:/e%3A/open_source_projects/Analysis_Ransome_with_GAN/analysis/adv_gan.ipynb#ch0000014?line=4'>5</a>\u001b[0m train_gan_com(\u001b[39m1000\u001b[39;49m, \u001b[39m10\u001b[39;49m, g_model, d_model, gan_model, latent_dim, X)\n",
      "\u001b[1;32me:\\open_source_projects\\Analysis_Ransome_with_GAN\\analysis\\adv_gan.ipynb Cell 11'\u001b[0m in \u001b[0;36mtrain_gan_com\u001b[1;34m(n_epochs, n_batch, g_model, d_model, gan_model, latent_dim, real_x)\u001b[0m\n\u001b[0;32m     <a href='vscode-notebook-cell:/e%3A/open_source_projects/Analysis_Ransome_with_GAN/analysis/adv_gan.ipynb#ch0000013?line=16'>17</a>\u001b[0m \u001b[39m# train with the epochs\u001b[39;00m\n\u001b[0;32m     <a href='vscode-notebook-cell:/e%3A/open_source_projects/Analysis_Ransome_with_GAN/analysis/adv_gan.ipynb#ch0000013?line=17'>18</a>\u001b[0m \u001b[39mfor\u001b[39;00m i \u001b[39min\u001b[39;00m \u001b[39mrange\u001b[39m(n_epochs):\n\u001b[0;32m     <a href='vscode-notebook-cell:/e%3A/open_source_projects/Analysis_Ransome_with_GAN/analysis/adv_gan.ipynb#ch0000013?line=18'>19</a>\u001b[0m \t\u001b[39m# genreate fake examples by generator\u001b[39;00m\n\u001b[1;32m---> <a href='vscode-notebook-cell:/e%3A/open_source_projects/Analysis_Ransome_with_GAN/analysis/adv_gan.ipynb#ch0000013?line=19'>20</a>\u001b[0m \tfake_x \u001b[39m=\u001b[39m gen_fake_samples(g_model, latent_dim, half_batch)\n\u001b[0;32m     <a href='vscode-notebook-cell:/e%3A/open_source_projects/Analysis_Ransome_with_GAN/analysis/adv_gan.ipynb#ch0000013?line=20'>21</a>\u001b[0m \t\u001b[39m# 1 is the real malware class, 0 is the fake class\u001b[39;00m\n\u001b[0;32m     <a href='vscode-notebook-cell:/e%3A/open_source_projects/Analysis_Ransome_with_GAN/analysis/adv_gan.ipynb#ch0000013?line=21'>22</a>\u001b[0m \tfake_y \u001b[39m=\u001b[39m np\u001b[39m.\u001b[39mzeros((half_batch, \u001b[39m1\u001b[39m))\n",
      "\u001b[1;32me:\\open_source_projects\\Analysis_Ransome_with_GAN\\analysis\\adv_gan.ipynb Cell 10'\u001b[0m in \u001b[0;36mgen_fake_samples\u001b[1;34m(generator, latent_dim, n)\u001b[0m\n\u001b[0;32m      <a href='vscode-notebook-cell:/e%3A/open_source_projects/Analysis_Ransome_with_GAN/analysis/adv_gan.ipynb#ch0000012?line=8'>9</a>\u001b[0m \u001b[39mdef\u001b[39;00m \u001b[39mgen_fake_samples\u001b[39m(generator, latent_dim, n):\n\u001b[0;32m     <a href='vscode-notebook-cell:/e%3A/open_source_projects/Analysis_Ransome_with_GAN/analysis/adv_gan.ipynb#ch0000012?line=9'>10</a>\u001b[0m     inputs \u001b[39m=\u001b[39m gen_latent_points(latent_dim, n)\n\u001b[1;32m---> <a href='vscode-notebook-cell:/e%3A/open_source_projects/Analysis_Ransome_with_GAN/analysis/adv_gan.ipynb#ch0000012?line=10'>11</a>\u001b[0m     X \u001b[39m=\u001b[39m generator\u001b[39m.\u001b[39;49mpredict(inputs)\n\u001b[0;32m     <a href='vscode-notebook-cell:/e%3A/open_source_projects/Analysis_Ransome_with_GAN/analysis/adv_gan.ipynb#ch0000012?line=11'>12</a>\u001b[0m     \u001b[39mprint\u001b[39m(X)\n\u001b[0;32m     <a href='vscode-notebook-cell:/e%3A/open_source_projects/Analysis_Ransome_with_GAN/analysis/adv_gan.ipynb#ch0000012?line=12'>13</a>\u001b[0m     \u001b[39mreturn\u001b[39;00m X\n",
      "File \u001b[1;32m~\\AppData\\Local\\Programs\\Python\\Python38\\lib\\site-packages\\keras\\utils\\traceback_utils.py:67\u001b[0m, in \u001b[0;36mfilter_traceback.<locals>.error_handler\u001b[1;34m(*args, **kwargs)\u001b[0m\n\u001b[0;32m     <a href='file:///c%3A/Users/ren/AppData/Local/Programs/Python/Python38/lib/site-packages/keras/utils/traceback_utils.py?line=64'>65</a>\u001b[0m \u001b[39mexcept\u001b[39;00m \u001b[39mException\u001b[39;00m \u001b[39mas\u001b[39;00m e:  \u001b[39m# pylint: disable=broad-except\u001b[39;00m\n\u001b[0;32m     <a href='file:///c%3A/Users/ren/AppData/Local/Programs/Python/Python38/lib/site-packages/keras/utils/traceback_utils.py?line=65'>66</a>\u001b[0m   filtered_tb \u001b[39m=\u001b[39m _process_traceback_frames(e\u001b[39m.\u001b[39m__traceback__)\n\u001b[1;32m---> <a href='file:///c%3A/Users/ren/AppData/Local/Programs/Python/Python38/lib/site-packages/keras/utils/traceback_utils.py?line=66'>67</a>\u001b[0m   \u001b[39mraise\u001b[39;00m e\u001b[39m.\u001b[39mwith_traceback(filtered_tb) \u001b[39mfrom\u001b[39;00m \u001b[39mNone\u001b[39m\n\u001b[0;32m     <a href='file:///c%3A/Users/ren/AppData/Local/Programs/Python/Python38/lib/site-packages/keras/utils/traceback_utils.py?line=67'>68</a>\u001b[0m \u001b[39mfinally\u001b[39;00m:\n\u001b[0;32m     <a href='file:///c%3A/Users/ren/AppData/Local/Programs/Python/Python38/lib/site-packages/keras/utils/traceback_utils.py?line=68'>69</a>\u001b[0m   \u001b[39mdel\u001b[39;00m filtered_tb\n",
      "File \u001b[1;32m~\\AppData\\Local\\Programs\\Python\\Python38\\lib\\site-packages\\tensorflow\\python\\framework\\func_graph.py:1147\u001b[0m, in \u001b[0;36mfunc_graph_from_py_func.<locals>.autograph_handler\u001b[1;34m(*args, **kwargs)\u001b[0m\n\u001b[0;32m   <a href='file:///c%3A/Users/ren/AppData/Local/Programs/Python/Python38/lib/site-packages/tensorflow/python/framework/func_graph.py?line=1144'>1145</a>\u001b[0m \u001b[39mexcept\u001b[39;00m \u001b[39mException\u001b[39;00m \u001b[39mas\u001b[39;00m e:  \u001b[39m# pylint:disable=broad-except\u001b[39;00m\n\u001b[0;32m   <a href='file:///c%3A/Users/ren/AppData/Local/Programs/Python/Python38/lib/site-packages/tensorflow/python/framework/func_graph.py?line=1145'>1146</a>\u001b[0m   \u001b[39mif\u001b[39;00m \u001b[39mhasattr\u001b[39m(e, \u001b[39m\"\u001b[39m\u001b[39mag_error_metadata\u001b[39m\u001b[39m\"\u001b[39m):\n\u001b[1;32m-> <a href='file:///c%3A/Users/ren/AppData/Local/Programs/Python/Python38/lib/site-packages/tensorflow/python/framework/func_graph.py?line=1146'>1147</a>\u001b[0m     \u001b[39mraise\u001b[39;00m e\u001b[39m.\u001b[39mag_error_metadata\u001b[39m.\u001b[39mto_exception(e)\n\u001b[0;32m   <a href='file:///c%3A/Users/ren/AppData/Local/Programs/Python/Python38/lib/site-packages/tensorflow/python/framework/func_graph.py?line=1147'>1148</a>\u001b[0m   \u001b[39melse\u001b[39;00m:\n\u001b[0;32m   <a href='file:///c%3A/Users/ren/AppData/Local/Programs/Python/Python38/lib/site-packages/tensorflow/python/framework/func_graph.py?line=1148'>1149</a>\u001b[0m     \u001b[39mraise\u001b[39;00m\n",
      "\u001b[1;31mValueError\u001b[0m: in user code:\n\n    File \"C:\\Users\\ren\\AppData\\Local\\Programs\\Python\\Python38\\lib\\site-packages\\keras\\engine\\training.py\", line 1801, in predict_function  *\n        return step_function(self, iterator)\n    File \"C:\\Users\\ren\\AppData\\Local\\Programs\\Python\\Python38\\lib\\site-packages\\keras\\engine\\training.py\", line 1790, in step_function  **\n        outputs = model.distribute_strategy.run(run_step, args=(data,))\n    File \"C:\\Users\\ren\\AppData\\Local\\Programs\\Python\\Python38\\lib\\site-packages\\keras\\engine\\training.py\", line 1783, in run_step  **\n        outputs = model.predict_step(data)\n    File \"C:\\Users\\ren\\AppData\\Local\\Programs\\Python\\Python38\\lib\\site-packages\\keras\\engine\\training.py\", line 1751, in predict_step\n        return self(x, training=False)\n    File \"C:\\Users\\ren\\AppData\\Local\\Programs\\Python\\Python38\\lib\\site-packages\\keras\\utils\\traceback_utils.py\", line 67, in error_handler\n        raise e.with_traceback(filtered_tb) from None\n    File \"C:\\Users\\ren\\AppData\\Local\\Programs\\Python\\Python38\\lib\\site-packages\\keras\\engine\\input_spec.py\", line 228, in assert_input_compatibility\n        raise ValueError(f'Input {input_index} of layer \"{layer_name}\" '\n\n    ValueError: Exception encountered when calling layer \"sequential_29\" (type Sequential).\n    \n    Input 0 of layer \"dense_52\" is incompatible with the layer: expected min_ndim=2, found ndim=1. Full shape received: (None,)\n    \n    Call arguments received:\n      • inputs=tf.Tensor(shape=(None,), dtype=float32)\n      • training=False\n      • mask=None\n"
     ]
    }
   ],
   "source": [
    "latent_dim = X.shape[1]\n",
    "g_model = gen_generator(latent_dim, latent_dim)\n",
    "d_model = gen_discriminator(latent_dim)\n",
    "gan_model = gen_gan(g_model, d_model)\n",
    "train_gan_com(1000, 10, g_model, d_model, gan_model, latent_dim, X)"
   ]
  },
  {
   "cell_type": "code",
   "execution_count": null,
   "metadata": {},
   "outputs": [],
   "source": []
  }
 ],
 "metadata": {
  "interpreter": {
   "hash": "8fecd871876602184e2def9d040398806a20c493ba8c7291bbd5a5358628e6cd"
  },
  "kernelspec": {
   "display_name": "Python 3.8.1 64-bit",
   "language": "python",
   "name": "python3"
  },
  "language_info": {
   "codemirror_mode": {
    "name": "ipython",
    "version": 3
   },
   "file_extension": ".py",
   "mimetype": "text/x-python",
   "name": "python",
   "nbconvert_exporter": "python",
   "pygments_lexer": "ipython3",
   "version": "3.8.1"
  },
  "orig_nbformat": 4
 },
 "nbformat": 4,
 "nbformat_minor": 2
}
