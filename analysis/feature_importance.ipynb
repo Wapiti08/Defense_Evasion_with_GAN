{
 "cells": [
  {
   "cell_type": "code",
   "execution_count": 2,
   "metadata": {},
   "outputs": [],
   "source": [
    "import pandas as pd\n",
    "import dask.dataframe as dd\n",
    "import numpy as np\n",
    "df = pd.read_csv('../dataset/features/data.csv', index_col=False)"
   ]
  },
  {
   "cell_type": "code",
   "execution_count": 3,
   "metadata": {},
   "outputs": [
    {
     "data": {
      "text/html": [
       "<div>\n",
       "<style scoped>\n",
       "    .dataframe tbody tr th:only-of-type {\n",
       "        vertical-align: middle;\n",
       "    }\n",
       "\n",
       "    .dataframe tbody tr th {\n",
       "        vertical-align: top;\n",
       "    }\n",
       "\n",
       "    .dataframe thead th {\n",
       "        text-align: right;\n",
       "    }\n",
       "</style>\n",
       "<table border=\"1\" class=\"dataframe\">\n",
       "  <thead>\n",
       "    <tr style=\"text-align: right;\">\n",
       "      <th></th>\n",
       "      <th>ID</th>\n",
       "      <th>Label</th>\n",
       "      <th>1</th>\n",
       "      <th>2</th>\n",
       "      <th>3</th>\n",
       "      <th>4</th>\n",
       "      <th>5</th>\n",
       "      <th>6</th>\n",
       "      <th>7</th>\n",
       "      <th>8</th>\n",
       "      <th>...</th>\n",
       "      <th>223451</th>\n",
       "      <th>223452</th>\n",
       "      <th>223453</th>\n",
       "      <th>223454</th>\n",
       "      <th>223455</th>\n",
       "      <th>223456</th>\n",
       "      <th>223457</th>\n",
       "      <th>223458</th>\n",
       "      <th>223459</th>\n",
       "      <th>223460</th>\n",
       "    </tr>\n",
       "  </thead>\n",
       "  <tbody>\n",
       "    <tr>\n",
       "      <th>0</th>\n",
       "      <td>0</td>\n",
       "      <td>1</td>\n",
       "      <td>0</td>\n",
       "      <td>0</td>\n",
       "      <td>0</td>\n",
       "      <td>0</td>\n",
       "      <td>0</td>\n",
       "      <td>0</td>\n",
       "      <td>0</td>\n",
       "      <td>0</td>\n",
       "      <td>...</td>\n",
       "      <td>0</td>\n",
       "      <td>0</td>\n",
       "      <td>0</td>\n",
       "      <td>0</td>\n",
       "      <td>0</td>\n",
       "      <td>0</td>\n",
       "      <td>0</td>\n",
       "      <td>0</td>\n",
       "      <td>0</td>\n",
       "      <td>0</td>\n",
       "    </tr>\n",
       "    <tr>\n",
       "      <th>1</th>\n",
       "      <td>1</td>\n",
       "      <td>1</td>\n",
       "      <td>0</td>\n",
       "      <td>1</td>\n",
       "      <td>1</td>\n",
       "      <td>0</td>\n",
       "      <td>0</td>\n",
       "      <td>1</td>\n",
       "      <td>0</td>\n",
       "      <td>0</td>\n",
       "      <td>...</td>\n",
       "      <td>0</td>\n",
       "      <td>0</td>\n",
       "      <td>0</td>\n",
       "      <td>0</td>\n",
       "      <td>0</td>\n",
       "      <td>0</td>\n",
       "      <td>0</td>\n",
       "      <td>0</td>\n",
       "      <td>0</td>\n",
       "      <td>0</td>\n",
       "    </tr>\n",
       "    <tr>\n",
       "      <th>2</th>\n",
       "      <td>2</td>\n",
       "      <td>1</td>\n",
       "      <td>0</td>\n",
       "      <td>0</td>\n",
       "      <td>0</td>\n",
       "      <td>0</td>\n",
       "      <td>0</td>\n",
       "      <td>0</td>\n",
       "      <td>0</td>\n",
       "      <td>0</td>\n",
       "      <td>...</td>\n",
       "      <td>0</td>\n",
       "      <td>0</td>\n",
       "      <td>0</td>\n",
       "      <td>0</td>\n",
       "      <td>0</td>\n",
       "      <td>0</td>\n",
       "      <td>0</td>\n",
       "      <td>0</td>\n",
       "      <td>0</td>\n",
       "      <td>0</td>\n",
       "    </tr>\n",
       "    <tr>\n",
       "      <th>3</th>\n",
       "      <td>3</td>\n",
       "      <td>1</td>\n",
       "      <td>0</td>\n",
       "      <td>0</td>\n",
       "      <td>0</td>\n",
       "      <td>0</td>\n",
       "      <td>0</td>\n",
       "      <td>0</td>\n",
       "      <td>0</td>\n",
       "      <td>0</td>\n",
       "      <td>...</td>\n",
       "      <td>0</td>\n",
       "      <td>0</td>\n",
       "      <td>0</td>\n",
       "      <td>0</td>\n",
       "      <td>0</td>\n",
       "      <td>0</td>\n",
       "      <td>0</td>\n",
       "      <td>0</td>\n",
       "      <td>0</td>\n",
       "      <td>0</td>\n",
       "    </tr>\n",
       "    <tr>\n",
       "      <th>4</th>\n",
       "      <td>4</td>\n",
       "      <td>1</td>\n",
       "      <td>0</td>\n",
       "      <td>0</td>\n",
       "      <td>0</td>\n",
       "      <td>0</td>\n",
       "      <td>0</td>\n",
       "      <td>0</td>\n",
       "      <td>0</td>\n",
       "      <td>0</td>\n",
       "      <td>...</td>\n",
       "      <td>0</td>\n",
       "      <td>0</td>\n",
       "      <td>0</td>\n",
       "      <td>0</td>\n",
       "      <td>0</td>\n",
       "      <td>0</td>\n",
       "      <td>0</td>\n",
       "      <td>0</td>\n",
       "      <td>0</td>\n",
       "      <td>0</td>\n",
       "    </tr>\n",
       "  </tbody>\n",
       "</table>\n",
       "<p>5 rows × 223462 columns</p>\n",
       "</div>"
      ],
      "text/plain": [
       "   ID  Label  1  2  3  4  5  6  7  8  ...  223451  223452  223453  223454  \\\n",
       "0   0      1  0  0  0  0  0  0  0  0  ...       0       0       0       0   \n",
       "1   1      1  0  1  1  0  0  1  0  0  ...       0       0       0       0   \n",
       "2   2      1  0  0  0  0  0  0  0  0  ...       0       0       0       0   \n",
       "3   3      1  0  0  0  0  0  0  0  0  ...       0       0       0       0   \n",
       "4   4      1  0  0  0  0  0  0  0  0  ...       0       0       0       0   \n",
       "\n",
       "   223455  223456  223457  223458  223459  223460  \n",
       "0       0       0       0       0       0       0  \n",
       "1       0       0       0       0       0       0  \n",
       "2       0       0       0       0       0       0  \n",
       "3       0       0       0       0       0       0  \n",
       "4       0       0       0       0       0       0  \n",
       "\n",
       "[5 rows x 223462 columns]"
      ]
     },
     "execution_count": 3,
     "metadata": {},
     "output_type": "execute_result"
    }
   ],
   "source": [
    "df.head()"
   ]
  },
  {
   "cell_type": "code",
   "execution_count": 4,
   "metadata": {},
   "outputs": [],
   "source": [
    "# correlate the features to see \n",
    "train_labels = df['Label']\n",
    "train_data = df.drop(['ID','Label'],axis=1)\n",
    "\n",
    "y = train_labels.values\n",
    "X = train_data.values"
   ]
  },
  {
   "cell_type": "code",
   "execution_count": 5,
   "metadata": {},
   "outputs": [
    {
     "data": {
      "text/plain": [
       "array([1, 1, 1, 1, 1, 1, 1, 1, 1, 1, 1, 1, 1, 1, 1, 1, 1, 1, 1, 1, 1, 1,\n",
       "       1, 1, 1, 1, 1, 1, 1, 1, 1, 1, 1, 1, 1, 1, 1, 1, 1, 1, 1, 1, 1, 1,\n",
       "       1, 1, 1, 1, 1, 1, 1, 1, 1, 1, 1, 1, 1, 1, 1, 1, 1, 1, 1, 1, 1, 1,\n",
       "       1, 1, 1, 1, 1, 1, 1, 1, 1, 1, 1, 1, 1, 1, 1, 1, 1, 1, 1, 1, 1, 1,\n",
       "       1, 1, 1, 1, 1, 1, 1, 1, 1, 1, 1, 1, 1, 1, 1, 1, 1, 1, 1, 1, 1, 1,\n",
       "       1, 1, 1, 1, 1, 1, 1, 1, 1, 1, 1, 1, 1, 1, 1, 1, 1, 1, 1, 1, 1, 1,\n",
       "       1, 1, 1, 1, 1, 1, 1, 1, 1, 1, 1, 1, 1, 1, 1, 1, 1, 1, 1, 1, 1, 1,\n",
       "       1, 1, 1, 1, 1, 1, 1, 1, 1, 1, 1, 1, 1, 1, 1, 1, 1, 1, 1, 1, 1, 1,\n",
       "       1, 1, 1, 0, 0, 0, 0, 0, 0, 0, 0, 0, 0, 0, 0, 0, 0, 0, 0, 0, 0, 0,\n",
       "       0, 0, 0, 0, 0, 0, 0, 0, 0, 0, 0, 0, 0, 0, 0, 0, 0, 0, 0, 0, 0, 0,\n",
       "       0, 0, 0, 0, 0, 0, 0, 0, 0, 0, 0, 0, 0, 0, 0, 0, 0, 0, 0, 0, 0, 0,\n",
       "       0, 0, 0, 0, 0, 0, 0, 0, 0, 0, 0, 0, 0, 0, 0, 0, 0, 0, 0, 0, 0, 0,\n",
       "       0, 0, 0, 0, 0, 0, 0, 0, 0, 0, 0, 0, 0, 0, 0, 0, 0, 0, 0, 0, 0, 0,\n",
       "       0, 0, 0, 0, 0, 0, 0, 0, 0, 0, 0, 0, 0, 0, 0, 0, 0, 0, 0, 0, 0, 0,\n",
       "       0, 0, 0, 0, 0, 0, 0, 0, 0, 0, 0, 0, 0], dtype=int64)"
      ]
     },
     "execution_count": 5,
     "metadata": {},
     "output_type": "execute_result"
    }
   ],
   "source": [
    "y"
   ]
  },
  {
   "cell_type": "markdown",
   "metadata": {},
   "source": [
    "#### Importance calculation with XGBClassifier"
   ]
  },
  {
   "cell_type": "code",
   "execution_count": 7,
   "metadata": {},
   "outputs": [],
   "source": [
    "# # xgboost for feature importance on a classification problem\n",
    "# from xgboost import XGBClassifier\n",
    "# from matplotlib import pyplot\n",
    "# # define the model\n",
    "# model = XGBClassifier()\n",
    "# # fit the model\n",
    "# model.fit(X, y)\n",
    "# # get importance\n",
    "# importance = model.feature_importances_\n",
    "# # summarize feature importance\n",
    "# for i,v in enumerate(importance):\n",
    "# \tprint('Feature: %0d, Score: %.5f' % (i,v))\n",
    "# # plot feature importance\n",
    "# pyplot.bar([x for x in range(len(importance))], importance)\n",
    "# pyplot.show()"
   ]
  },
  {
   "cell_type": "markdown",
   "metadata": {},
   "source": [
    "#### Importance calculation with RandomForestRegressor"
   ]
  },
  {
   "cell_type": "code",
   "execution_count": 8,
   "metadata": {},
   "outputs": [],
   "source": [
    "# from sklearn.ensemble import RandomForestRegressor\n",
    "# from matplotlib import pyplot\n",
    "# # define dataset\n",
    "# # define the model\n",
    "# model = RandomForestRegressor()\n",
    "# # fit the model\n",
    "# model.fit(X, y)\n",
    "# # get importance\n",
    "# importance = model.feature_importances_\n",
    "# # summarize feature importance\n",
    "# for i,v in enumerate(importance):\n",
    "# \tprint('Feature: %0d, Score: %.5f' % (i,v))\n",
    "# # plot feature importance\n",
    "# pyplot.bar([x for x in range(len(importance))], importance)\n",
    "# pyplot.show()"
   ]
  },
  {
   "cell_type": "markdown",
   "metadata": {},
   "source": [
    "#### Analyse the importance with coff"
   ]
  },
  {
   "cell_type": "code",
   "execution_count": 33,
   "metadata": {},
   "outputs": [],
   "source": [
    "from sklearn.linear_model import LogisticRegression\n",
    "\n",
    "model = LogisticRegression()\n",
    "model.fit(train_data, train_labels)\n",
    "importances = pd.DataFrame(data={\n",
    "    'Attribute': train_data.columns,\n",
    "    'Importance': model.coef_[0]\n",
    "})\n"
   ]
  },
  {
   "cell_type": "code",
   "execution_count": 35,
   "metadata": {},
   "outputs": [],
   "source": [
    "top_importances = importances[importances['Importance']>0.01]"
   ]
  },
  {
   "cell_type": "code",
   "execution_count": 135,
   "metadata": {},
   "outputs": [
    {
     "data": {
      "text/html": [
       "<div>\n",
       "<style scoped>\n",
       "    .dataframe tbody tr th:only-of-type {\n",
       "        vertical-align: middle;\n",
       "    }\n",
       "\n",
       "    .dataframe tbody tr th {\n",
       "        vertical-align: top;\n",
       "    }\n",
       "\n",
       "    .dataframe thead th {\n",
       "        text-align: right;\n",
       "    }\n",
       "</style>\n",
       "<table border=\"1\" class=\"dataframe\">\n",
       "  <thead>\n",
       "    <tr style=\"text-align: right;\">\n",
       "      <th></th>\n",
       "      <th>Attribute</th>\n",
       "      <th>Importance</th>\n",
       "    </tr>\n",
       "  </thead>\n",
       "  <tbody>\n",
       "    <tr>\n",
       "      <th>21</th>\n",
       "      <td>22</td>\n",
       "      <td>0.034860</td>\n",
       "    </tr>\n",
       "    <tr>\n",
       "      <th>24</th>\n",
       "      <td>25</td>\n",
       "      <td>0.017847</td>\n",
       "    </tr>\n",
       "    <tr>\n",
       "      <th>82</th>\n",
       "      <td>83</td>\n",
       "      <td>0.027897</td>\n",
       "    </tr>\n",
       "    <tr>\n",
       "      <th>128</th>\n",
       "      <td>129</td>\n",
       "      <td>0.034528</td>\n",
       "    </tr>\n",
       "    <tr>\n",
       "      <th>138</th>\n",
       "      <td>139</td>\n",
       "      <td>0.011867</td>\n",
       "    </tr>\n",
       "    <tr>\n",
       "      <th>...</th>\n",
       "      <td>...</td>\n",
       "      <td>...</td>\n",
       "    </tr>\n",
       "    <tr>\n",
       "      <th>222766</th>\n",
       "      <td>222767</td>\n",
       "      <td>0.011414</td>\n",
       "    </tr>\n",
       "    <tr>\n",
       "      <th>222802</th>\n",
       "      <td>222803</td>\n",
       "      <td>0.019324</td>\n",
       "    </tr>\n",
       "    <tr>\n",
       "      <th>223004</th>\n",
       "      <td>223005</td>\n",
       "      <td>0.022291</td>\n",
       "    </tr>\n",
       "    <tr>\n",
       "      <th>223403</th>\n",
       "      <td>223404</td>\n",
       "      <td>0.011520</td>\n",
       "    </tr>\n",
       "    <tr>\n",
       "      <th>223448</th>\n",
       "      <td>223449</td>\n",
       "      <td>0.022291</td>\n",
       "    </tr>\n",
       "  </tbody>\n",
       "</table>\n",
       "<p>3706 rows × 2 columns</p>\n",
       "</div>"
      ],
      "text/plain": [
       "        Attribute  Importance\n",
       "21             22    0.034860\n",
       "24             25    0.017847\n",
       "82             83    0.027897\n",
       "128           129    0.034528\n",
       "138           139    0.011867\n",
       "...           ...         ...\n",
       "222766     222767    0.011414\n",
       "222802     222803    0.019324\n",
       "223004     223005    0.022291\n",
       "223403     223404    0.011520\n",
       "223448     223449    0.022291\n",
       "\n",
       "[3706 rows x 2 columns]"
      ]
     },
     "execution_count": 135,
     "metadata": {},
     "output_type": "execute_result"
    }
   ],
   "source": [
    "top_importances"
   ]
  },
  {
   "cell_type": "code",
   "execution_count": 144,
   "metadata": {},
   "outputs": [
    {
     "data": {
      "image/png": "[encoded data removed]",
      "text/plain": [
       "<Figure size 864x720 with 1 Axes>"
      ]
     },
     "metadata": {
      "needs_background": "light"
     },
     "output_type": "display_data"
    }
   ],
   "source": [
    "import matplotlib.pyplot as plt\n",
    "plt.figure(figsize=(12,10))\n",
    "plt.plot(top_importances['Attribute'], top_importances['Importance'])\n",
    "plt.show()"
   ]
  },
  {
   "cell_type": "code",
   "execution_count": 142,
   "metadata": {},
   "outputs": [
    {
     "data": {
      "text/html": [
       "<div>\n",
       "<style scoped>\n",
       "    .dataframe tbody tr th:only-of-type {\n",
       "        vertical-align: middle;\n",
       "    }\n",
       "\n",
       "    .dataframe tbody tr th {\n",
       "        vertical-align: top;\n",
       "    }\n",
       "\n",
       "    .dataframe thead th {\n",
       "        text-align: right;\n",
       "    }\n",
       "</style>\n",
       "<table border=\"1\" class=\"dataframe\">\n",
       "  <thead>\n",
       "    <tr style=\"text-align: right;\">\n",
       "      <th></th>\n",
       "      <th>Attribute</th>\n",
       "      <th>Importance</th>\n",
       "    </tr>\n",
       "  </thead>\n",
       "  <tbody>\n",
       "    <tr>\n",
       "      <th>99964</th>\n",
       "      <td>99965</td>\n",
       "      <td>1.015501</td>\n",
       "    </tr>\n",
       "    <tr>\n",
       "      <th>80442</th>\n",
       "      <td>80443</td>\n",
       "      <td>0.517864</td>\n",
       "    </tr>\n",
       "    <tr>\n",
       "      <th>172569</th>\n",
       "      <td>172570</td>\n",
       "      <td>0.424336</td>\n",
       "    </tr>\n",
       "    <tr>\n",
       "      <th>50001</th>\n",
       "      <td>50002</td>\n",
       "      <td>0.398329</td>\n",
       "    </tr>\n",
       "    <tr>\n",
       "      <th>66973</th>\n",
       "      <td>66974</td>\n",
       "      <td>0.285239</td>\n",
       "    </tr>\n",
       "    <tr>\n",
       "      <th>...</th>\n",
       "      <td>...</td>\n",
       "      <td>...</td>\n",
       "    </tr>\n",
       "    <tr>\n",
       "      <th>35437</th>\n",
       "      <td>35438</td>\n",
       "      <td>0.010195</td>\n",
       "    </tr>\n",
       "    <tr>\n",
       "      <th>157775</th>\n",
       "      <td>157776</td>\n",
       "      <td>0.010120</td>\n",
       "    </tr>\n",
       "    <tr>\n",
       "      <th>165646</th>\n",
       "      <td>165647</td>\n",
       "      <td>0.010110</td>\n",
       "    </tr>\n",
       "    <tr>\n",
       "      <th>19163</th>\n",
       "      <td>19164</td>\n",
       "      <td>0.010080</td>\n",
       "    </tr>\n",
       "    <tr>\n",
       "      <th>85124</th>\n",
       "      <td>85125</td>\n",
       "      <td>0.010021</td>\n",
       "    </tr>\n",
       "  </tbody>\n",
       "</table>\n",
       "<p>3706 rows × 2 columns</p>\n",
       "</div>"
      ],
      "text/plain": [
       "        Attribute  Importance\n",
       "99964       99965    1.015501\n",
       "80442       80443    0.517864\n",
       "172569     172570    0.424336\n",
       "50001       50002    0.398329\n",
       "66973       66974    0.285239\n",
       "...           ...         ...\n",
       "35437       35438    0.010195\n",
       "157775     157776    0.010120\n",
       "165646     165647    0.010110\n",
       "19163       19164    0.010080\n",
       "85124       85125    0.010021\n",
       "\n",
       "[3706 rows x 2 columns]"
      ]
     },
     "execution_count": 142,
     "metadata": {},
     "output_type": "execute_result"
    }
   ],
   "source": [
    "sorted_importances = top_importances.sort_values(by='Importance', ascending=False)\n",
    "sorted_importances "
   ]
  },
  {
   "cell_type": "code",
   "execution_count": 145,
   "metadata": {},
   "outputs": [
    {
     "data": {
      "image/png": "[encoded data removed]",
      "text/plain": [
       "<Figure size 864x720 with 1 Axes>"
      ]
     },
     "metadata": {
      "needs_background": "light"
     },
     "output_type": "display_data"
    }
   ],
   "source": [
    "import matplotlib.pyplot as plt\n",
    "plt.figure(figsize=(12,10))\n",
    "\n",
    "plt.plot(sorted_importances ['Attribute'], sorted_importances['Importance'])\n",
    "plt.show()"
   ]
  },
  {
   "cell_type": "code",
   "execution_count": 146,
   "metadata": {},
   "outputs": [
    {
     "name": "stderr",
     "output_type": "stream",
     "text": [
      "C:\\Users\\ren\\AppData\\Local\\Programs\\Python\\Python38\\lib\\site-packages\\pandas\\core\\generic.py:5159: SettingWithCopyWarning: \n",
      "A value is trying to be set on a copy of a slice from a DataFrame.\n",
      "Try using .loc[row_indexer,col_indexer] = value instead\n",
      "\n",
      "See the caveats in the documentation: https://pandas.pydata.org/pandas-docs/stable/user_guide/indexing.html#returning-a-view-versus-a-copy\n",
      "  self[name] = value\n"
     ]
    },
    {
     "data": {
      "text/html": [
       "<div>\n",
       "<style scoped>\n",
       "    .dataframe tbody tr th:only-of-type {\n",
       "        vertical-align: middle;\n",
       "    }\n",
       "\n",
       "    .dataframe tbody tr th {\n",
       "        vertical-align: top;\n",
       "    }\n",
       "\n",
       "    .dataframe thead th {\n",
       "        text-align: right;\n",
       "    }\n",
       "</style>\n",
       "<table border=\"1\" class=\"dataframe\">\n",
       "  <thead>\n",
       "    <tr style=\"text-align: right;\">\n",
       "      <th></th>\n",
       "      <th>Attribute</th>\n",
       "      <th>Importance</th>\n",
       "    </tr>\n",
       "  </thead>\n",
       "  <tbody>\n",
       "    <tr>\n",
       "      <th>(0, 2000]</th>\n",
       "      <td>97549</td>\n",
       "      <td>2.738576</td>\n",
       "    </tr>\n",
       "    <tr>\n",
       "      <th>(2000, 4000]</th>\n",
       "      <td>202004</td>\n",
       "      <td>1.829679</td>\n",
       "    </tr>\n",
       "    <tr>\n",
       "      <th>(4000, 6000]</th>\n",
       "      <td>211437</td>\n",
       "      <td>1.080190</td>\n",
       "    </tr>\n",
       "    <tr>\n",
       "      <th>(6000, 8000]</th>\n",
       "      <td>297842</td>\n",
       "      <td>1.046653</td>\n",
       "    </tr>\n",
       "    <tr>\n",
       "      <th>(8000, 10000]</th>\n",
       "      <td>0</td>\n",
       "      <td>0.000000</td>\n",
       "    </tr>\n",
       "    <tr>\n",
       "      <th>(10000, 12000]</th>\n",
       "      <td>0</td>\n",
       "      <td>0.000000</td>\n",
       "    </tr>\n",
       "    <tr>\n",
       "      <th>(12000, 14000]</th>\n",
       "      <td>54613</td>\n",
       "      <td>0.161132</td>\n",
       "    </tr>\n",
       "    <tr>\n",
       "      <th>(14000, 16000]</th>\n",
       "      <td>148177</td>\n",
       "      <td>0.222007</td>\n",
       "    </tr>\n",
       "    <tr>\n",
       "      <th>(16000, 18000]</th>\n",
       "      <td>16084</td>\n",
       "      <td>0.027897</td>\n",
       "    </tr>\n",
       "    <tr>\n",
       "      <th>(18000, 20000]</th>\n",
       "      <td>2057982</td>\n",
       "      <td>3.291211</td>\n",
       "    </tr>\n",
       "    <tr>\n",
       "      <th>(20000, 22000]</th>\n",
       "      <td>217764</td>\n",
       "      <td>0.280972</td>\n",
       "    </tr>\n",
       "    <tr>\n",
       "      <th>(22000, 24000]</th>\n",
       "      <td>807948</td>\n",
       "      <td>0.786923</td>\n",
       "    </tr>\n",
       "    <tr>\n",
       "      <th>(24000, 26000]</th>\n",
       "      <td>848658</td>\n",
       "      <td>0.751479</td>\n",
       "    </tr>\n",
       "    <tr>\n",
       "      <th>(26000, 28000]</th>\n",
       "      <td>910189</td>\n",
       "      <td>0.667575</td>\n",
       "    </tr>\n",
       "    <tr>\n",
       "      <th>(28000, 30000]</th>\n",
       "      <td>900679</td>\n",
       "      <td>0.810152</td>\n",
       "    </tr>\n",
       "    <tr>\n",
       "      <th>(30000, 32000]</th>\n",
       "      <td>987330</td>\n",
       "      <td>0.545602</td>\n",
       "    </tr>\n",
       "    <tr>\n",
       "      <th>(32000, 34000]</th>\n",
       "      <td>691547</td>\n",
       "      <td>0.351848</td>\n",
       "    </tr>\n",
       "    <tr>\n",
       "      <th>(34000, 36000]</th>\n",
       "      <td>1190863</td>\n",
       "      <td>0.646695</td>\n",
       "    </tr>\n",
       "    <tr>\n",
       "      <th>(36000, 38000]</th>\n",
       "      <td>1291569</td>\n",
       "      <td>0.795108</td>\n",
       "    </tr>\n",
       "    <tr>\n",
       "      <th>(38000, 40000]</th>\n",
       "      <td>1441053</td>\n",
       "      <td>0.815590</td>\n",
       "    </tr>\n",
       "  </tbody>\n",
       "</table>\n",
       "</div>"
      ],
      "text/plain": [
       "                Attribute  Importance\n",
       "(0, 2000]           97549    2.738576\n",
       "(2000, 4000]       202004    1.829679\n",
       "(4000, 6000]       211437    1.080190\n",
       "(6000, 8000]       297842    1.046653\n",
       "(8000, 10000]           0    0.000000\n",
       "(10000, 12000]          0    0.000000\n",
       "(12000, 14000]      54613    0.161132\n",
       "(14000, 16000]     148177    0.222007\n",
       "(16000, 18000]      16084    0.027897\n",
       "(18000, 20000]    2057982    3.291211\n",
       "(20000, 22000]     217764    0.280972\n",
       "(22000, 24000]     807948    0.786923\n",
       "(24000, 26000]     848658    0.751479\n",
       "(26000, 28000]     910189    0.667575\n",
       "(28000, 30000]     900679    0.810152\n",
       "(30000, 32000]     987330    0.545602\n",
       "(32000, 34000]     691547    0.351848\n",
       "(34000, 36000]    1190863    0.646695\n",
       "(36000, 38000]    1291569    0.795108\n",
       "(38000, 40000]    1441053    0.815590"
      ]
     },
     "execution_count": 146,
     "metadata": {},
     "output_type": "execute_result"
    }
   ],
   "source": [
    "# aggregate the importance by range of value\n",
    "df_imp = top_importances \n",
    "df_imp.Attribute = df_imp.Attribute.values.astype('int')\n",
    "att_indexes = df_imp.Attribute.values.astype('int')\n",
    "intervals = pd.cut(np.array(df_imp[\"Attribute\"].values), np.arange(0, 240000, 2000))\n",
    "# calculate the aggregated importances within different ranges\n",
    "agg_top_importances = df_imp.groupby(pd.cut(np.array(df_imp[\"Attribute\"].values), np.arange(0, 240000, 2000))).sum()\n",
    "agg_top_importances[:20]"
   ]
  },
  {
   "cell_type": "code",
   "execution_count": 119,
   "metadata": {},
   "outputs": [
    {
     "data": {
      "text/plain": [
       "0"
      ]
     },
     "execution_count": 119,
     "metadata": {},
     "output_type": "execute_result"
    }
   ],
   "source": [
    "# calcuate the number of features within a range\n",
    "intervals.value_counts().index[0].left"
   ]
  },
  {
   "cell_type": "code",
   "execution_count": 126,
   "metadata": {},
   "outputs": [
    {
     "data": {
      "text/plain": [
       "[1000.0,\n",
       " 3000.0,\n",
       " 5000.0,\n",
       " 7000.0,\n",
       " 9000.0,\n",
       " 11000.0,\n",
       " 13000.0,\n",
       " 15000.0,\n",
       " 17000.0,\n",
       " 19000.0,\n",
       " 21000.0,\n",
       " 23000.0,\n",
       " 25000.0,\n",
       " 27000.0,\n",
       " 29000.0,\n",
       " 31000.0,\n",
       " 33000.0,\n",
       " 35000.0,\n",
       " 37000.0,\n",
       " 39000.0,\n",
       " 41000.0,\n",
       " 43000.0,\n",
       " 45000.0,\n",
       " 47000.0,\n",
       " 49000.0,\n",
       " 51000.0,\n",
       " 53000.0,\n",
       " 55000.0,\n",
       " 57000.0,\n",
       " 59000.0,\n",
       " 61000.0,\n",
       " 63000.0,\n",
       " 65000.0,\n",
       " 67000.0,\n",
       " 69000.0,\n",
       " 71000.0,\n",
       " 73000.0,\n",
       " 75000.0,\n",
       " 77000.0,\n",
       " 79000.0,\n",
       " 81000.0,\n",
       " 83000.0,\n",
       " 85000.0,\n",
       " 87000.0,\n",
       " 89000.0,\n",
       " 91000.0,\n",
       " 93000.0,\n",
       " 95000.0,\n",
       " 97000.0,\n",
       " 99000.0,\n",
       " 101000.0,\n",
       " 103000.0,\n",
       " 105000.0,\n",
       " 107000.0,\n",
       " 109000.0,\n",
       " 111000.0,\n",
       " 113000.0,\n",
       " 115000.0,\n",
       " 117000.0,\n",
       " 119000.0,\n",
       " 121000.0,\n",
       " 123000.0,\n",
       " 125000.0,\n",
       " 127000.0,\n",
       " 129000.0,\n",
       " 131000.0,\n",
       " 133000.0,\n",
       " 135000.0,\n",
       " 137000.0,\n",
       " 139000.0,\n",
       " 141000.0,\n",
       " 143000.0,\n",
       " 145000.0,\n",
       " 147000.0,\n",
       " 149000.0,\n",
       " 151000.0,\n",
       " 153000.0,\n",
       " 155000.0,\n",
       " 157000.0,\n",
       " 159000.0,\n",
       " 161000.0,\n",
       " 163000.0,\n",
       " 165000.0,\n",
       " 167000.0,\n",
       " 169000.0,\n",
       " 171000.0,\n",
       " 173000.0,\n",
       " 175000.0,\n",
       " 177000.0,\n",
       " 179000.0,\n",
       " 181000.0,\n",
       " 183000.0,\n",
       " 185000.0,\n",
       " 187000.0,\n",
       " 189000.0,\n",
       " 191000.0,\n",
       " 193000.0,\n",
       " 195000.0,\n",
       " 197000.0,\n",
       " 199000.0,\n",
       " 201000.0,\n",
       " 203000.0,\n",
       " 205000.0,\n",
       " 207000.0,\n",
       " 209000.0,\n",
       " 211000.0,\n",
       " 213000.0,\n",
       " 215000.0,\n",
       " 217000.0,\n",
       " 219000.0,\n",
       " 221000.0,\n",
       " 223000.0,\n",
       " 225000.0,\n",
       " 227000.0,\n",
       " 229000.0,\n",
       " 231000.0,\n",
       " 233000.0,\n",
       " 235000.0,\n",
       " 237000.0]"
      ]
     },
     "execution_count": 126,
     "metadata": {},
     "output_type": "execute_result"
    }
   ],
   "source": [
    "left_points = [(index.left+index.right)/2 for index in intervals.value_counts().index]\n",
    "left_points"
   ]
  },
  {
   "cell_type": "code",
   "execution_count": 133,
   "metadata": {},
   "outputs": [
    {
     "data": {
      "image/png": "[encoded data removed]",
      "text/plain": [
       "<Figure size 864x720 with 1 Axes>"
      ]
     },
     "metadata": {
      "needs_background": "light"
     },
     "output_type": "display_data"
    },
    {
     "name": "stdout",
     "output_type": "stream",
     "text": [
      "[2.73857641 1.82967948 1.08018961 1.04665258 0.         0.\n",
      " 0.16113227 0.22200667 0.02789658 3.29121074 0.28097211 0.78692287\n",
      " 0.75147948 0.66757529 0.81015198 0.54560152 0.3518477  0.64669491\n",
      " 0.79510778 0.81558998 0.55682124 0.50083617 0.55835415 0.68825774\n",
      " 0.70635411 1.49953206 0.74344889 0.94843303 0.60497378 0.52488133\n",
      " 0.73355799 0.88140394 0.66809389 1.15054293 0.48424696 0.6669425\n",
      " 0.53432041 0.83560625 0.6812055  0.51670936 0.99139284 0.95848987\n",
      " 0.68151067 0.78878944 0.5315134  0.63409272 0.79556626 0.63973709\n",
      " 0.57071156 1.61419416 0.51782892 0.74330501 0.64502072 0.85559902\n",
      " 0.82070838 0.40585692 0.709356   0.6157752  0.6241309  0.40044684\n",
      " 0.61609025 0.5289856  0.612576   0.59149114 0.41408868 0.57521643\n",
      " 0.60120117 0.55864757 0.72812839 0.67137412 0.62241538 0.52422487\n",
      " 0.69116396 0.62599738 0.91004595 0.79646458 0.5651482  0.47136961\n",
      " 0.85057393 0.5650289  0.77645707 0.66803474 0.65059018 0.5372564\n",
      " 0.66533076 0.70806617 1.331394   0.98734175 0.58171891 0.41238026\n",
      " 0.76252732 0.69408328 0.79748938 0.82147712 0.62053735 0.49597376\n",
      " 0.61859763 0.599085   0.78201542 0.93844874 0.67157448 0.76478681\n",
      " 0.74419895 0.63429372 0.68645225 0.60491651 0.49899805 0.60798825\n",
      " 0.9500354  0.61923258 0.33958075 0.34412975 0.         0.\n",
      " 0.         0.         0.         0.         0.        ]\n"
     ]
    }
   ],
   "source": [
    "plt.figure(figsize=(12,10))\n",
    "plt.plot(left_points, agg_top_importances[\"Importance\"].values)\n",
    "# agg_top_importances\n",
    "plt.show()\n",
    "print(agg_top_importances[\"Importance\"].values)"
   ]
  },
  {
   "cell_type": "code",
   "execution_count": 92,
   "metadata": {},
   "outputs": [
    {
     "ename": "TypeError",
     "evalue": "float() argument must be a string or a number, not 'pandas._libs.interval.Interval'",
     "output_type": "error",
     "traceback": [
      "\u001b[1;31m---------------------------------------------------------------------------\u001b[0m",
      "\u001b[1;31mTypeError\u001b[0m                                 Traceback (most recent call last)",
      "\u001b[1;32me:\\open_source_projects\\Analysis_Ransome_with_GAN\\analysis\\feature_importance.ipynb Cell 19'\u001b[0m in \u001b[0;36m<module>\u001b[1;34m\u001b[0m\n\u001b[1;32m----> <a href='vscode-notebook-cell:/e%3A/open_source_projects/Analysis_Ransome_with_GAN/analysis/feature_importance.ipynb#ch0000024?line=0'>1</a>\u001b[0m plt\u001b[39m.\u001b[39;49mbar(agg_top_importances\u001b[39m.\u001b[39;49mindex, agg_top_importances[\u001b[39m'\u001b[39;49m\u001b[39mImportance\u001b[39;49m\u001b[39m'\u001b[39;49m], color\u001b[39m=\u001b[39;49m\u001b[39m'\u001b[39;49m\u001b[39m#087E8B\u001b[39;49m\u001b[39m'\u001b[39;49m)\n\u001b[0;32m      <a href='vscode-notebook-cell:/e%3A/open_source_projects/Analysis_Ransome_with_GAN/analysis/feature_importance.ipynb#ch0000024?line=1'>2</a>\u001b[0m plt\u001b[39m.\u001b[39mfigure(figsize\u001b[39m=\u001b[39m(\u001b[39m12\u001b[39m,\u001b[39m10\u001b[39m))\n\u001b[0;32m      <a href='vscode-notebook-cell:/e%3A/open_source_projects/Analysis_Ransome_with_GAN/analysis/feature_importance.ipynb#ch0000024?line=2'>3</a>\u001b[0m plt\u001b[39m.\u001b[39mshow()\n",
      "File \u001b[1;32m~\\AppData\\Local\\Programs\\Python\\Python38\\lib\\site-packages\\matplotlib\\pyplot.py:2407\u001b[0m, in \u001b[0;36mbar\u001b[1;34m(x, height, width, bottom, align, data, **kwargs)\u001b[0m\n\u001b[0;32m   <a href='file:///c%3A/Users/ren/AppData/Local/Programs/Python/Python38/lib/site-packages/matplotlib/pyplot.py?line=2402'>2403</a>\u001b[0m \u001b[39m@docstring\u001b[39m\u001b[39m.\u001b[39mcopy(Axes\u001b[39m.\u001b[39mbar)\n\u001b[0;32m   <a href='file:///c%3A/Users/ren/AppData/Local/Programs/Python/Python38/lib/site-packages/matplotlib/pyplot.py?line=2403'>2404</a>\u001b[0m \u001b[39mdef\u001b[39;00m \u001b[39mbar\u001b[39m(\n\u001b[0;32m   <a href='file:///c%3A/Users/ren/AppData/Local/Programs/Python/Python38/lib/site-packages/matplotlib/pyplot.py?line=2404'>2405</a>\u001b[0m         x, height, width\u001b[39m=\u001b[39m\u001b[39m0.8\u001b[39m, bottom\u001b[39m=\u001b[39m\u001b[39mNone\u001b[39;00m, \u001b[39m*\u001b[39m, align\u001b[39m=\u001b[39m\u001b[39m'\u001b[39m\u001b[39mcenter\u001b[39m\u001b[39m'\u001b[39m,\n\u001b[0;32m   <a href='file:///c%3A/Users/ren/AppData/Local/Programs/Python/Python38/lib/site-packages/matplotlib/pyplot.py?line=2405'>2406</a>\u001b[0m         data\u001b[39m=\u001b[39m\u001b[39mNone\u001b[39;00m, \u001b[39m*\u001b[39m\u001b[39m*\u001b[39mkwargs):\n\u001b[1;32m-> <a href='file:///c%3A/Users/ren/AppData/Local/Programs/Python/Python38/lib/site-packages/matplotlib/pyplot.py?line=2406'>2407</a>\u001b[0m     \u001b[39mreturn\u001b[39;00m gca()\u001b[39m.\u001b[39;49mbar(\n\u001b[0;32m   <a href='file:///c%3A/Users/ren/AppData/Local/Programs/Python/Python38/lib/site-packages/matplotlib/pyplot.py?line=2407'>2408</a>\u001b[0m         x, height, width\u001b[39m=\u001b[39;49mwidth, bottom\u001b[39m=\u001b[39;49mbottom, align\u001b[39m=\u001b[39;49malign,\n\u001b[0;32m   <a href='file:///c%3A/Users/ren/AppData/Local/Programs/Python/Python38/lib/site-packages/matplotlib/pyplot.py?line=2408'>2409</a>\u001b[0m         \u001b[39m*\u001b[39;49m\u001b[39m*\u001b[39;49m({\u001b[39m\"\u001b[39;49m\u001b[39mdata\u001b[39;49m\u001b[39m\"\u001b[39;49m: data} \u001b[39mif\u001b[39;49;00m data \u001b[39mis\u001b[39;49;00m \u001b[39mnot\u001b[39;49;00m \u001b[39mNone\u001b[39;49;00m \u001b[39melse\u001b[39;49;00m {}), \u001b[39m*\u001b[39;49m\u001b[39m*\u001b[39;49mkwargs)\n",
      "File \u001b[1;32m~\\AppData\\Local\\Programs\\Python\\Python38\\lib\\site-packages\\matplotlib\\__init__.py:1543\u001b[0m, in \u001b[0;36m_preprocess_data.<locals>.inner\u001b[1;34m(ax, data, *args, **kwargs)\u001b[0m\n\u001b[0;32m   <a href='file:///c%3A/Users/ren/AppData/Local/Programs/Python/Python38/lib/site-packages/matplotlib/__init__.py?line=1539'>1540</a>\u001b[0m \u001b[39m@functools\u001b[39m\u001b[39m.\u001b[39mwraps(func)\n\u001b[0;32m   <a href='file:///c%3A/Users/ren/AppData/Local/Programs/Python/Python38/lib/site-packages/matplotlib/__init__.py?line=1540'>1541</a>\u001b[0m \u001b[39mdef\u001b[39;00m \u001b[39minner\u001b[39m(ax, \u001b[39m*\u001b[39margs, data\u001b[39m=\u001b[39m\u001b[39mNone\u001b[39;00m, \u001b[39m*\u001b[39m\u001b[39m*\u001b[39mkwargs):\n\u001b[0;32m   <a href='file:///c%3A/Users/ren/AppData/Local/Programs/Python/Python38/lib/site-packages/matplotlib/__init__.py?line=1541'>1542</a>\u001b[0m     \u001b[39mif\u001b[39;00m data \u001b[39mis\u001b[39;00m \u001b[39mNone\u001b[39;00m:\n\u001b[1;32m-> <a href='file:///c%3A/Users/ren/AppData/Local/Programs/Python/Python38/lib/site-packages/matplotlib/__init__.py?line=1542'>1543</a>\u001b[0m         \u001b[39mreturn\u001b[39;00m func(ax, \u001b[39m*\u001b[39;49m\u001b[39mmap\u001b[39;49m(sanitize_sequence, args), \u001b[39m*\u001b[39;49m\u001b[39m*\u001b[39;49mkwargs)\n\u001b[0;32m   <a href='file:///c%3A/Users/ren/AppData/Local/Programs/Python/Python38/lib/site-packages/matplotlib/__init__.py?line=1544'>1545</a>\u001b[0m     bound \u001b[39m=\u001b[39m new_sig\u001b[39m.\u001b[39mbind(ax, \u001b[39m*\u001b[39margs, \u001b[39m*\u001b[39m\u001b[39m*\u001b[39mkwargs)\n\u001b[0;32m   <a href='file:///c%3A/Users/ren/AppData/Local/Programs/Python/Python38/lib/site-packages/matplotlib/__init__.py?line=1545'>1546</a>\u001b[0m     auto_label \u001b[39m=\u001b[39m (bound\u001b[39m.\u001b[39marguments\u001b[39m.\u001b[39mget(label_namer)\n\u001b[0;32m   <a href='file:///c%3A/Users/ren/AppData/Local/Programs/Python/Python38/lib/site-packages/matplotlib/__init__.py?line=1546'>1547</a>\u001b[0m                   \u001b[39mor\u001b[39;00m bound\u001b[39m.\u001b[39mkwargs\u001b[39m.\u001b[39mget(label_namer))\n",
      "File \u001b[1;32m~\\AppData\\Local\\Programs\\Python\\Python38\\lib\\site-packages\\matplotlib\\axes\\_axes.py:2403\u001b[0m, in \u001b[0;36mAxes.bar\u001b[1;34m(self, x, height, width, bottom, align, **kwargs)\u001b[0m\n\u001b[0;32m   <a href='file:///c%3A/Users/ren/AppData/Local/Programs/Python/Python38/lib/site-packages/matplotlib/axes/_axes.py?line=2400'>2401</a>\u001b[0m     \u001b[39melif\u001b[39;00m orientation \u001b[39m==\u001b[39m \u001b[39m'\u001b[39m\u001b[39mhorizontal\u001b[39m\u001b[39m'\u001b[39m:\n\u001b[0;32m   <a href='file:///c%3A/Users/ren/AppData/Local/Programs/Python/Python38/lib/site-packages/matplotlib/axes/_axes.py?line=2401'>2402</a>\u001b[0m         r\u001b[39m.\u001b[39msticky_edges\u001b[39m.\u001b[39mx\u001b[39m.\u001b[39mappend(l)\n\u001b[1;32m-> <a href='file:///c%3A/Users/ren/AppData/Local/Programs/Python/Python38/lib/site-packages/matplotlib/axes/_axes.py?line=2402'>2403</a>\u001b[0m     \u001b[39mself\u001b[39;49m\u001b[39m.\u001b[39;49madd_patch(r)\n\u001b[0;32m   <a href='file:///c%3A/Users/ren/AppData/Local/Programs/Python/Python38/lib/site-packages/matplotlib/axes/_axes.py?line=2403'>2404</a>\u001b[0m     patches\u001b[39m.\u001b[39mappend(r)\n\u001b[0;32m   <a href='file:///c%3A/Users/ren/AppData/Local/Programs/Python/Python38/lib/site-packages/matplotlib/axes/_axes.py?line=2405'>2406</a>\u001b[0m \u001b[39mif\u001b[39;00m xerr \u001b[39mis\u001b[39;00m \u001b[39mnot\u001b[39;00m \u001b[39mNone\u001b[39;00m \u001b[39mor\u001b[39;00m yerr \u001b[39mis\u001b[39;00m \u001b[39mnot\u001b[39;00m \u001b[39mNone\u001b[39;00m:\n",
      "File \u001b[1;32m~\\AppData\\Local\\Programs\\Python\\Python38\\lib\\site-packages\\matplotlib\\axes\\_base.py:1919\u001b[0m, in \u001b[0;36m_AxesBase.add_patch\u001b[1;34m(self, p)\u001b[0m\n\u001b[0;32m   <a href='file:///c%3A/Users/ren/AppData/Local/Programs/Python/Python38/lib/site-packages/matplotlib/axes/_base.py?line=1916'>1917</a>\u001b[0m \u001b[39mif\u001b[39;00m p\u001b[39m.\u001b[39mget_clip_path() \u001b[39mis\u001b[39;00m \u001b[39mNone\u001b[39;00m:\n\u001b[0;32m   <a href='file:///c%3A/Users/ren/AppData/Local/Programs/Python/Python38/lib/site-packages/matplotlib/axes/_base.py?line=1917'>1918</a>\u001b[0m     p\u001b[39m.\u001b[39mset_clip_path(\u001b[39mself\u001b[39m\u001b[39m.\u001b[39mpatch)\n\u001b[1;32m-> <a href='file:///c%3A/Users/ren/AppData/Local/Programs/Python/Python38/lib/site-packages/matplotlib/axes/_base.py?line=1918'>1919</a>\u001b[0m \u001b[39mself\u001b[39;49m\u001b[39m.\u001b[39;49m_update_patch_limits(p)\n\u001b[0;32m   <a href='file:///c%3A/Users/ren/AppData/Local/Programs/Python/Python38/lib/site-packages/matplotlib/axes/_base.py?line=1919'>1920</a>\u001b[0m \u001b[39mself\u001b[39m\u001b[39m.\u001b[39mpatches\u001b[39m.\u001b[39mappend(p)\n\u001b[0;32m   <a href='file:///c%3A/Users/ren/AppData/Local/Programs/Python/Python38/lib/site-packages/matplotlib/axes/_base.py?line=1920'>1921</a>\u001b[0m p\u001b[39m.\u001b[39m_remove_method \u001b[39m=\u001b[39m \u001b[39mself\u001b[39m\u001b[39m.\u001b[39mpatches\u001b[39m.\u001b[39mremove\n",
      "File \u001b[1;32m~\\AppData\\Local\\Programs\\Python\\Python38\\lib\\site-packages\\matplotlib\\axes\\_base.py:1939\u001b[0m, in \u001b[0;36m_AxesBase._update_patch_limits\u001b[1;34m(self, patch)\u001b[0m\n\u001b[0;32m   <a href='file:///c%3A/Users/ren/AppData/Local/Programs/Python/Python38/lib/site-packages/matplotlib/axes/_base.py?line=1936'>1937</a>\u001b[0m vertices \u001b[39m=\u001b[39m patch\u001b[39m.\u001b[39mget_path()\u001b[39m.\u001b[39mvertices\n\u001b[0;32m   <a href='file:///c%3A/Users/ren/AppData/Local/Programs/Python/Python38/lib/site-packages/matplotlib/axes/_base.py?line=1937'>1938</a>\u001b[0m \u001b[39mif\u001b[39;00m vertices\u001b[39m.\u001b[39msize \u001b[39m>\u001b[39m \u001b[39m0\u001b[39m:\n\u001b[1;32m-> <a href='file:///c%3A/Users/ren/AppData/Local/Programs/Python/Python38/lib/site-packages/matplotlib/axes/_base.py?line=1938'>1939</a>\u001b[0m     xys \u001b[39m=\u001b[39m patch\u001b[39m.\u001b[39;49mget_patch_transform()\u001b[39m.\u001b[39mtransform(vertices)\n\u001b[0;32m   <a href='file:///c%3A/Users/ren/AppData/Local/Programs/Python/Python38/lib/site-packages/matplotlib/axes/_base.py?line=1939'>1940</a>\u001b[0m     \u001b[39mif\u001b[39;00m patch\u001b[39m.\u001b[39mget_data_transform() \u001b[39m!=\u001b[39m \u001b[39mself\u001b[39m\u001b[39m.\u001b[39mtransData:\n\u001b[0;32m   <a href='file:///c%3A/Users/ren/AppData/Local/Programs/Python/Python38/lib/site-packages/matplotlib/axes/_base.py?line=1940'>1941</a>\u001b[0m         patch_to_data \u001b[39m=\u001b[39m (patch\u001b[39m.\u001b[39mget_data_transform() \u001b[39m-\u001b[39m\n\u001b[0;32m   <a href='file:///c%3A/Users/ren/AppData/Local/Programs/Python/Python38/lib/site-packages/matplotlib/axes/_base.py?line=1941'>1942</a>\u001b[0m                          \u001b[39mself\u001b[39m\u001b[39m.\u001b[39mtransData)\n",
      "File \u001b[1;32m~\\AppData\\Local\\Programs\\Python\\Python38\\lib\\site-packages\\matplotlib\\patches.py:777\u001b[0m, in \u001b[0;36mRectangle.get_patch_transform\u001b[1;34m(self)\u001b[0m\n\u001b[0;32m    <a href='file:///c%3A/Users/ren/AppData/Local/Programs/Python/Python38/lib/site-packages/matplotlib/patches.py?line=775'>776</a>\u001b[0m \u001b[39mdef\u001b[39;00m \u001b[39mget_patch_transform\u001b[39m(\u001b[39mself\u001b[39m):\n\u001b[1;32m--> <a href='file:///c%3A/Users/ren/AppData/Local/Programs/Python/Python38/lib/site-packages/matplotlib/patches.py?line=776'>777</a>\u001b[0m     \u001b[39mself\u001b[39;49m\u001b[39m.\u001b[39;49m_update_patch_transform()\n\u001b[0;32m    <a href='file:///c%3A/Users/ren/AppData/Local/Programs/Python/Python38/lib/site-packages/matplotlib/patches.py?line=777'>778</a>\u001b[0m     \u001b[39mreturn\u001b[39;00m \u001b[39mself\u001b[39m\u001b[39m.\u001b[39m_rect_transform\n",
      "File \u001b[1;32m~\\AppData\\Local\\Programs\\Python\\Python38\\lib\\site-packages\\matplotlib\\patches.py:756\u001b[0m, in \u001b[0;36mRectangle._update_patch_transform\u001b[1;34m(self)\u001b[0m\n\u001b[0;32m    <a href='file:///c%3A/Users/ren/AppData/Local/Programs/Python/Python38/lib/site-packages/matplotlib/patches.py?line=746'>747</a>\u001b[0m \u001b[39m\"\"\"\u001b[39;00m\n\u001b[0;32m    <a href='file:///c%3A/Users/ren/AppData/Local/Programs/Python/Python38/lib/site-packages/matplotlib/patches.py?line=747'>748</a>\u001b[0m \u001b[39mNotes\u001b[39;00m\n\u001b[0;32m    <a href='file:///c%3A/Users/ren/AppData/Local/Programs/Python/Python38/lib/site-packages/matplotlib/patches.py?line=748'>749</a>\u001b[0m \u001b[39m-----\u001b[39;00m\n\u001b[1;32m   (...)\u001b[0m\n\u001b[0;32m    <a href='file:///c%3A/Users/ren/AppData/Local/Programs/Python/Python38/lib/site-packages/matplotlib/patches.py?line=752'>753</a>\u001b[0m \u001b[39mmember variable.\u001b[39;00m\n\u001b[0;32m    <a href='file:///c%3A/Users/ren/AppData/Local/Programs/Python/Python38/lib/site-packages/matplotlib/patches.py?line=753'>754</a>\u001b[0m \u001b[39m\"\"\"\u001b[39;00m\n\u001b[0;32m    <a href='file:///c%3A/Users/ren/AppData/Local/Programs/Python/Python38/lib/site-packages/matplotlib/patches.py?line=754'>755</a>\u001b[0m x0, y0, x1, y1 \u001b[39m=\u001b[39m \u001b[39mself\u001b[39m\u001b[39m.\u001b[39m_convert_units()\n\u001b[1;32m--> <a href='file:///c%3A/Users/ren/AppData/Local/Programs/Python/Python38/lib/site-packages/matplotlib/patches.py?line=755'>756</a>\u001b[0m bbox \u001b[39m=\u001b[39m transforms\u001b[39m.\u001b[39;49mBbox\u001b[39m.\u001b[39;49mfrom_extents(x0, y0, x1, y1)\n\u001b[0;32m    <a href='file:///c%3A/Users/ren/AppData/Local/Programs/Python/Python38/lib/site-packages/matplotlib/patches.py?line=756'>757</a>\u001b[0m rot_trans \u001b[39m=\u001b[39m transforms\u001b[39m.\u001b[39mAffine2D()\n\u001b[0;32m    <a href='file:///c%3A/Users/ren/AppData/Local/Programs/Python/Python38/lib/site-packages/matplotlib/patches.py?line=757'>758</a>\u001b[0m rot_trans\u001b[39m.\u001b[39mrotate_deg_around(x0, y0, \u001b[39mself\u001b[39m\u001b[39m.\u001b[39mangle)\n",
      "File \u001b[1;32m~\\AppData\\Local\\Programs\\Python\\Python38\\lib\\site-packages\\matplotlib\\transforms.py:789\u001b[0m, in \u001b[0;36mBbox.from_extents\u001b[1;34m(*args)\u001b[0m\n\u001b[0;32m    <a href='file:///c%3A/Users/ren/AppData/Local/Programs/Python/Python38/lib/site-packages/matplotlib/transforms.py?line=781'>782</a>\u001b[0m \u001b[39m@staticmethod\u001b[39m\n\u001b[0;32m    <a href='file:///c%3A/Users/ren/AppData/Local/Programs/Python/Python38/lib/site-packages/matplotlib/transforms.py?line=782'>783</a>\u001b[0m \u001b[39mdef\u001b[39;00m \u001b[39mfrom_extents\u001b[39m(\u001b[39m*\u001b[39margs):\n\u001b[0;32m    <a href='file:///c%3A/Users/ren/AppData/Local/Programs/Python/Python38/lib/site-packages/matplotlib/transforms.py?line=783'>784</a>\u001b[0m     \u001b[39m\"\"\"\u001b[39;00m\n\u001b[0;32m    <a href='file:///c%3A/Users/ren/AppData/Local/Programs/Python/Python38/lib/site-packages/matplotlib/transforms.py?line=784'>785</a>\u001b[0m \u001b[39m    Create a new Bbox from *left*, *bottom*, *right* and *top*.\u001b[39;00m\n\u001b[0;32m    <a href='file:///c%3A/Users/ren/AppData/Local/Programs/Python/Python38/lib/site-packages/matplotlib/transforms.py?line=785'>786</a>\u001b[0m \n\u001b[0;32m    <a href='file:///c%3A/Users/ren/AppData/Local/Programs/Python/Python38/lib/site-packages/matplotlib/transforms.py?line=786'>787</a>\u001b[0m \u001b[39m    The *y*-axis increases upwards.\u001b[39;00m\n\u001b[0;32m    <a href='file:///c%3A/Users/ren/AppData/Local/Programs/Python/Python38/lib/site-packages/matplotlib/transforms.py?line=787'>788</a>\u001b[0m \u001b[39m    \"\"\"\u001b[39;00m\n\u001b[1;32m--> <a href='file:///c%3A/Users/ren/AppData/Local/Programs/Python/Python38/lib/site-packages/matplotlib/transforms.py?line=788'>789</a>\u001b[0m     points \u001b[39m=\u001b[39m np\u001b[39m.\u001b[39;49marray(args, dtype\u001b[39m=\u001b[39;49m\u001b[39mfloat\u001b[39;49m)\u001b[39m.\u001b[39mreshape(\u001b[39m2\u001b[39m, \u001b[39m2\u001b[39m)\n\u001b[0;32m    <a href='file:///c%3A/Users/ren/AppData/Local/Programs/Python/Python38/lib/site-packages/matplotlib/transforms.py?line=789'>790</a>\u001b[0m     \u001b[39mreturn\u001b[39;00m Bbox(points)\n",
      "\u001b[1;31mTypeError\u001b[0m: float() argument must be a string or a number, not 'pandas._libs.interval.Interval'"
     ]
    },
    {
     "data": {
      "image/png": "[encoded data removed]",
      "text/plain": [
       "<Figure size 432x288 with 1 Axes>"
      ]
     },
     "metadata": {
      "needs_background": "light"
     },
     "output_type": "display_data"
    }
   ],
   "source": [
    "\n",
    "plt.bar(agg_top_importances.index, agg_top_importances['Importance'], color='#087E8B')\n",
    "plt.figure(figsize=(12,10))\n",
    "plt.show()"
   ]
  },
  {
   "cell_type": "code",
   "execution_count": 28,
   "metadata": {},
   "outputs": [
    {
     "data": {
      "text/plain": [
       "99964      99965\n",
       "80442      80443\n",
       "172569    172570\n",
       "50001      50002\n",
       "66973      66974\n",
       "           ...  \n",
       "35437      35438\n",
       "157775    157776\n",
       "165646    165647\n",
       "19163      19164\n",
       "85124      85125\n",
       "Name: Attribute, Length: 3706, dtype: object"
      ]
     },
     "execution_count": 28,
     "metadata": {},
     "output_type": "execute_result"
    }
   ],
   "source": [
    "top_importances['Attribute'].index.value_counts(bins=range(0,230000,10000), sort=True)[:20]"
   ]
  },
  {
   "cell_type": "code",
   "execution_count": null,
   "metadata": {},
   "outputs": [],
   "source": []
  },
  {
   "cell_type": "code",
   "execution_count": 26,
   "metadata": {},
   "outputs": [
    {
     "data": {
      "text/plain": [
       "<matplotlib.axes._subplots.AxesSubplot at 0x244099c4490>"
      ]
     },
     "execution_count": 26,
     "metadata": {},
     "output_type": "execute_result"
    },
    {
     "data": {
      "image/png": "[encoded data removed]",
      "text/plain": [
       "<Figure size 864x720 with 1 Axes>"
      ]
     },
     "metadata": {
      "needs_background": "light"
     },
     "output_type": "display_data"
    }
   ],
   "source": [
    "top_importances['Attribute'].index.value_counts(bins=range(0,220000,4000), sort=False).plot(kind='bar',figsize=(12,10))"
   ]
  },
  {
   "cell_type": "code",
   "execution_count": 30,
   "metadata": {},
   "outputs": [
    {
     "data": {
      "image/png": "[encoded data removed]",
      "text/plain": [
       "<Figure size 432x288 with 1 Axes>"
      ]
     },
     "metadata": {
      "needs_background": "light"
     },
     "output_type": "display_data"
    },
    {
     "data": {
      "text/plain": [
       "<Figure size 864x720 with 0 Axes>"
      ]
     },
     "metadata": {},
     "output_type": "display_data"
    }
   ],
   "source": [
    "import matplotlib.pyplot as plt\n",
    "\n",
    "plt.bar(x=top_importances['Attribute'], height=top_importances['Importance'], color='#087E8B')\n",
    "plt.title('Feature importances obtained from coefficients', size=20)\n",
    "plt.xticks(rotation='vertical')\n",
    "plt.figure(figsize=(12,10))\n",
    "plt.show()"
   ]
  },
  {
   "cell_type": "markdown",
   "metadata": {},
   "source": [
    "#### Importance with PCA"
   ]
  },
  {
   "cell_type": "code",
   "execution_count": null,
   "metadata": {},
   "outputs": [],
   "source": [
    "from sklearn.decomposition import PCA\n",
    "\n",
    "pca = PCA().fit(train_data)\n",
    "\n",
    "plt.plot(pca.explained_variance_ratio_.cumsum(), lw=3, color='#087E8B')\n",
    "plt.title('Cumulative explained variance by number of principal components', size=20)\n",
    "plt.show()"
   ]
  }
 ],
 "metadata": {
  "interpreter": {
   "hash": "8fecd871876602184e2def9d040398806a20c493ba8c7291bbd5a5358628e6cd"
  },
  "kernelspec": {
   "display_name": "Python 3.8.1 64-bit",
   "language": "python",
   "name": "python3"
  },
  "language_info": {
   "codemirror_mode": {
    "name": "ipython",
    "version": 3
   },
   "file_extension": ".py",
   "mimetype": "text/x-python",
   "name": "python",
   "nbconvert_exporter": "python",
   "pygments_lexer": "ipython3",
   "version": "3.8.1"
  },
  "orig_nbformat": 4
 },
 "nbformat": 4,
 "nbformat_minor": 2
}
