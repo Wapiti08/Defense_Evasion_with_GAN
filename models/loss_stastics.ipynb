{
 "cells": [
  {
   "cell_type": "code",
   "execution_count": 4,
   "metadata": {},
   "outputs": [],
   "source": [
    "import pandas as pd"
   ]
  },
  {
   "cell_type": "markdown",
   "metadata": {},
   "source": [
    "Parameters:\n",
    "\n",
    "    self.generator_layers = [self.apifeature_dims+self.z_dims, 256, 512, 1024 , self.apifeature_dims]\n",
    "\n",
    "    self.substitute_detector_layers = [self.apifeature_dims, 512, 512, 1]"
   ]
  },
  {
   "cell_type": "code",
   "execution_count": 9,
   "metadata": {},
   "outputs": [],
   "source": [
    "Classifier_Two_Layers = {\n",
    "    'MLP': [4.650643700188084e-05, 100.0, 4.621968855644809e-06],\n",
    "    'SGD': [0.00024402368228493287, 100.0, 1.6674750895617763e-06],\n",
    "    'RC': [0.0003104711322521325, 100.0, 2.969875276903622e-05],\n",
    "    'DT': [0.0003598919756768737, 100.0, 3.61568781954702e-05],\n",
    "    'SVM': [0.00019829026769002667, 100.0, 9.004337698570453e-06]\n",
    "}"
   ]
  },
  {
   "cell_type": "code",
   "execution_count": 10,
   "metadata": {},
   "outputs": [
    {
     "data": {
      "text/html": [
       "<div>\n",
       "<style scoped>\n",
       "    .dataframe tbody tr th:only-of-type {\n",
       "        vertical-align: middle;\n",
       "    }\n",
       "\n",
       "    .dataframe tbody tr th {\n",
       "        vertical-align: top;\n",
       "    }\n",
       "\n",
       "    .dataframe thead th {\n",
       "        text-align: right;\n",
       "    }\n",
       "</style>\n",
       "<table border=\"1\" class=\"dataframe\">\n",
       "  <thead>\n",
       "    <tr style=\"text-align: right;\">\n",
       "      <th></th>\n",
       "      <th>MLP</th>\n",
       "      <th>SGD</th>\n",
       "      <th>RC</th>\n",
       "      <th>DT</th>\n",
       "      <th>SVM</th>\n",
       "    </tr>\n",
       "  </thead>\n",
       "  <tbody>\n",
       "    <tr>\n",
       "      <th>D_Loss</th>\n",
       "      <td>0.000047</td>\n",
       "      <td>0.000244</td>\n",
       "      <td>0.00031</td>\n",
       "      <td>0.000360</td>\n",
       "      <td>0.000198</td>\n",
       "    </tr>\n",
       "    <tr>\n",
       "      <th>ACC</th>\n",
       "      <td>100.000000</td>\n",
       "      <td>100.000000</td>\n",
       "      <td>100.00000</td>\n",
       "      <td>100.000000</td>\n",
       "      <td>100.000000</td>\n",
       "    </tr>\n",
       "    <tr>\n",
       "      <th>G_Loss</th>\n",
       "      <td>0.000005</td>\n",
       "      <td>0.000002</td>\n",
       "      <td>0.00003</td>\n",
       "      <td>0.000036</td>\n",
       "      <td>0.000009</td>\n",
       "    </tr>\n",
       "  </tbody>\n",
       "</table>\n",
       "</div>"
      ],
      "text/plain": [
       "               MLP         SGD         RC          DT         SVM\n",
       "D_Loss    0.000047    0.000244    0.00031    0.000360    0.000198\n",
       "ACC     100.000000  100.000000  100.00000  100.000000  100.000000\n",
       "G_Loss    0.000005    0.000002    0.00003    0.000036    0.000009"
      ]
     },
     "execution_count": 10,
     "metadata": {},
     "output_type": "execute_result"
    }
   ],
   "source": [
    "pd.DataFrame(Classifier_Two_Layers, index = ['D_Loss', 'ACC', 'G_Loss'])"
   ]
  },
  {
   "cell_type": "code",
   "execution_count": 15,
   "metadata": {},
   "outputs": [],
   "source": [
    "Ensemble_Classifier_Two_Layers = {\n",
    "    'Bag': [8.22592260192323e-05, 100.0, 3.5508924156602006e-06],\n",
    "    'RF': [0.00233113380636496, 100.0, 8.965355846157763e-06],\n",
    "    'AdaBoost': [0.0004080970820723451, 100.0, 9.755195605976041e-06],\n",
    "    'GB': [ 0.0006035762362444075, 100.0, 1.797146614990197e-05],\n",
    "}"
   ]
  },
  {
   "cell_type": "code",
   "execution_count": 16,
   "metadata": {},
   "outputs": [
    {
     "data": {
      "text/html": [
       "<div>\n",
       "<style scoped>\n",
       "    .dataframe tbody tr th:only-of-type {\n",
       "        vertical-align: middle;\n",
       "    }\n",
       "\n",
       "    .dataframe tbody tr th {\n",
       "        vertical-align: top;\n",
       "    }\n",
       "\n",
       "    .dataframe thead th {\n",
       "        text-align: right;\n",
       "    }\n",
       "</style>\n",
       "<table border=\"1\" class=\"dataframe\">\n",
       "  <thead>\n",
       "    <tr style=\"text-align: right;\">\n",
       "      <th></th>\n",
       "      <th>Bag</th>\n",
       "      <th>RF</th>\n",
       "      <th>AdaBoost</th>\n",
       "      <th>GB</th>\n",
       "    </tr>\n",
       "  </thead>\n",
       "  <tbody>\n",
       "    <tr>\n",
       "      <th>D_Loss</th>\n",
       "      <td>0.000082</td>\n",
       "      <td>0.002331</td>\n",
       "      <td>0.000408</td>\n",
       "      <td>0.000604</td>\n",
       "    </tr>\n",
       "    <tr>\n",
       "      <th>ACC</th>\n",
       "      <td>100.000000</td>\n",
       "      <td>100.000000</td>\n",
       "      <td>100.000000</td>\n",
       "      <td>100.000000</td>\n",
       "    </tr>\n",
       "    <tr>\n",
       "      <th>G_Loss</th>\n",
       "      <td>0.000004</td>\n",
       "      <td>0.000009</td>\n",
       "      <td>0.000010</td>\n",
       "      <td>0.000018</td>\n",
       "    </tr>\n",
       "  </tbody>\n",
       "</table>\n",
       "</div>"
      ],
      "text/plain": [
       "               Bag          RF    AdaBoost          GB\n",
       "D_Loss    0.000082    0.002331    0.000408    0.000604\n",
       "ACC     100.000000  100.000000  100.000000  100.000000\n",
       "G_Loss    0.000004    0.000009    0.000010    0.000018"
      ]
     },
     "execution_count": 16,
     "metadata": {},
     "output_type": "execute_result"
    }
   ],
   "source": [
    "pd.DataFrame(Ensemble_Classifier_Two_Layers, index = ['D_Loss', 'ACC', 'G_Loss'])"
   ]
  },
  {
   "cell_type": "markdown",
   "metadata": {},
   "source": [
    "Parameters:\n",
    "\n",
    "    self.generator_layers = [self.apifeature_dims+self.z_dims, 256, 512, 1024 , self.apifeature_dims]\n",
    "\n",
    "    self.substitute_detector_layers = [self.apifeature_dims, 512, 1]"
   ]
  },
  {
   "cell_type": "code",
   "execution_count": 13,
   "metadata": {},
   "outputs": [],
   "source": [
    "Classifier_One_Layer = {\n",
    "    'MLP': [0.002002428260311717, 100.0, 8.395116310566664e-06],\n",
    "    'SGD': [0.0006275568621276761, 100.0, 5.485580459207995e-06],\n",
    "    'RC': [0.0008978054956969572, 100.0, 1.450031777494587e-05],\n",
    "    'DT': [0.0006781554411645629, 100.0, 5.976425200060476e-06],\n",
    "    'SVM': [0.0026881536255132232, 100.0, 1.1830474250018597e-05]\n",
    "}"
   ]
  },
  {
   "cell_type": "code",
   "execution_count": 14,
   "metadata": {},
   "outputs": [
    {
     "data": {
      "text/html": [
       "<div>\n",
       "<style scoped>\n",
       "    .dataframe tbody tr th:only-of-type {\n",
       "        vertical-align: middle;\n",
       "    }\n",
       "\n",
       "    .dataframe tbody tr th {\n",
       "        vertical-align: top;\n",
       "    }\n",
       "\n",
       "    .dataframe thead th {\n",
       "        text-align: right;\n",
       "    }\n",
       "</style>\n",
       "<table border=\"1\" class=\"dataframe\">\n",
       "  <thead>\n",
       "    <tr style=\"text-align: right;\">\n",
       "      <th></th>\n",
       "      <th>MLP</th>\n",
       "      <th>SGD</th>\n",
       "      <th>RC</th>\n",
       "      <th>DT</th>\n",
       "      <th>SVM</th>\n",
       "    </tr>\n",
       "  </thead>\n",
       "  <tbody>\n",
       "    <tr>\n",
       "      <th>D_Loss</th>\n",
       "      <td>0.002002</td>\n",
       "      <td>0.000628</td>\n",
       "      <td>0.000898</td>\n",
       "      <td>0.000678</td>\n",
       "      <td>0.002688</td>\n",
       "    </tr>\n",
       "    <tr>\n",
       "      <th>ACC</th>\n",
       "      <td>100.000000</td>\n",
       "      <td>100.000000</td>\n",
       "      <td>100.000000</td>\n",
       "      <td>100.000000</td>\n",
       "      <td>100.000000</td>\n",
       "    </tr>\n",
       "    <tr>\n",
       "      <th>G_Loss</th>\n",
       "      <td>0.000008</td>\n",
       "      <td>0.000005</td>\n",
       "      <td>0.000015</td>\n",
       "      <td>0.000006</td>\n",
       "      <td>0.000012</td>\n",
       "    </tr>\n",
       "  </tbody>\n",
       "</table>\n",
       "</div>"
      ],
      "text/plain": [
       "               MLP         SGD          RC          DT         SVM\n",
       "D_Loss    0.002002    0.000628    0.000898    0.000678    0.002688\n",
       "ACC     100.000000  100.000000  100.000000  100.000000  100.000000\n",
       "G_Loss    0.000008    0.000005    0.000015    0.000006    0.000012"
      ]
     },
     "execution_count": 14,
     "metadata": {},
     "output_type": "execute_result"
    }
   ],
   "source": [
    "pd.DataFrame(Classifier_One_Layers, index = ['D_Loss', 'ACC', 'G_Loss'])"
   ]
  },
  {
   "cell_type": "code",
   "execution_count": 18,
   "metadata": {},
   "outputs": [],
   "source": [
    "Ensemble_Classifier_One_Layer = {\n",
    "    'Bag': [0.0009752021333042649, 100.0, 6.450652108469512e-06],\n",
    "    'RF': [0.0005696318921764032, 100.0, 1.4073579222895205e-05],\n",
    "    'AdaBoost': [0.00045098867940396303, 100.0, 1.1061413715651724e-05],\n",
    "    'GB': [0.0005312355951900827, 100.0, 2.3088181478669867e-05],\n",
    "}"
   ]
  },
  {
   "cell_type": "code",
   "execution_count": 19,
   "metadata": {},
   "outputs": [
    {
     "data": {
      "text/html": [
       "<div>\n",
       "<style scoped>\n",
       "    .dataframe tbody tr th:only-of-type {\n",
       "        vertical-align: middle;\n",
       "    }\n",
       "\n",
       "    .dataframe tbody tr th {\n",
       "        vertical-align: top;\n",
       "    }\n",
       "\n",
       "    .dataframe thead th {\n",
       "        text-align: right;\n",
       "    }\n",
       "</style>\n",
       "<table border=\"1\" class=\"dataframe\">\n",
       "  <thead>\n",
       "    <tr style=\"text-align: right;\">\n",
       "      <th></th>\n",
       "      <th>Bag</th>\n",
       "      <th>RF</th>\n",
       "      <th>AdaBoost</th>\n",
       "      <th>GB</th>\n",
       "    </tr>\n",
       "  </thead>\n",
       "  <tbody>\n",
       "    <tr>\n",
       "      <th>D_Loss</th>\n",
       "      <td>0.000975</td>\n",
       "      <td>0.000570</td>\n",
       "      <td>0.000451</td>\n",
       "      <td>0.000531</td>\n",
       "    </tr>\n",
       "    <tr>\n",
       "      <th>ACC</th>\n",
       "      <td>100.000000</td>\n",
       "      <td>100.000000</td>\n",
       "      <td>100.000000</td>\n",
       "      <td>100.000000</td>\n",
       "    </tr>\n",
       "    <tr>\n",
       "      <th>G_Loss</th>\n",
       "      <td>0.000006</td>\n",
       "      <td>0.000014</td>\n",
       "      <td>0.000011</td>\n",
       "      <td>0.000023</td>\n",
       "    </tr>\n",
       "  </tbody>\n",
       "</table>\n",
       "</div>"
      ],
      "text/plain": [
       "               Bag          RF    AdaBoost          GB\n",
       "D_Loss    0.000975    0.000570    0.000451    0.000531\n",
       "ACC     100.000000  100.000000  100.000000  100.000000\n",
       "G_Loss    0.000006    0.000014    0.000011    0.000023"
      ]
     },
     "execution_count": 19,
     "metadata": {},
     "output_type": "execute_result"
    }
   ],
   "source": [
    "pd.DataFrame(Ensemble_Classifier_One_Layer, index = ['D_Loss', 'ACC', 'G_Loss'])"
   ]
  },
  {
   "cell_type": "markdown",
   "metadata": {},
   "source": [
    "## Test on Ensemble Classifier"
   ]
  },
  {
   "cell_type": "markdown",
   "metadata": {},
   "source": [
    "Parameters:\n",
    "\n",
    "    self.generator_layers = [self.apifeature_dims+self.z_dims, 256, 512, 1024 , self.apifeature_dims]\n",
    "\n",
    "    self.substitute_detector_layers = [self.apifeature_dims, 512, 1]"
   ]
  },
  {
   "cell_type": "code",
   "execution_count": 5,
   "metadata": {},
   "outputs": [],
   "source": [
    "Ensemble_Comparison_One_Layer = {\n",
    "    'SVM': [0.12777981767430902, 96.875, 0.00520464638248086],\n",
    "    'MLP': [0.11040627863258123, 95.3125, 7.402617484331131e-05],\n",
    "    'Ensem': [0.11177612119354308, 96.875, 0.00012995889119338244],\n",
    "}"
   ]
  },
  {
   "cell_type": "code",
   "execution_count": 6,
   "metadata": {},
   "outputs": [
    {
     "data": {
      "text/html": [
       "<div>\n",
       "<style scoped>\n",
       "    .dataframe tbody tr th:only-of-type {\n",
       "        vertical-align: middle;\n",
       "    }\n",
       "\n",
       "    .dataframe tbody tr th {\n",
       "        vertical-align: top;\n",
       "    }\n",
       "\n",
       "    .dataframe thead th {\n",
       "        text-align: right;\n",
       "    }\n",
       "</style>\n",
       "<table border=\"1\" class=\"dataframe\">\n",
       "  <thead>\n",
       "    <tr style=\"text-align: right;\">\n",
       "      <th></th>\n",
       "      <th>SVM</th>\n",
       "      <th>MLP</th>\n",
       "      <th>Ensem</th>\n",
       "    </tr>\n",
       "  </thead>\n",
       "  <tbody>\n",
       "    <tr>\n",
       "      <th>D_Loss</th>\n",
       "      <td>0.127780</td>\n",
       "      <td>0.110406</td>\n",
       "      <td>0.111776</td>\n",
       "    </tr>\n",
       "    <tr>\n",
       "      <th>ACC</th>\n",
       "      <td>96.875000</td>\n",
       "      <td>95.312500</td>\n",
       "      <td>96.875000</td>\n",
       "    </tr>\n",
       "    <tr>\n",
       "      <th>G_Loss</th>\n",
       "      <td>0.005205</td>\n",
       "      <td>0.000074</td>\n",
       "      <td>0.000130</td>\n",
       "    </tr>\n",
       "  </tbody>\n",
       "</table>\n",
       "</div>"
      ],
      "text/plain": [
       "              SVM        MLP      Ensem\n",
       "D_Loss   0.127780   0.110406   0.111776\n",
       "ACC     96.875000  95.312500  96.875000\n",
       "G_Loss   0.005205   0.000074   0.000130"
      ]
     },
     "execution_count": 6,
     "metadata": {},
     "output_type": "execute_result"
    }
   ],
   "source": [
    "pd.DataFrame(Ensemble_Comparison_One_Layer, index = ['D_Loss', 'ACC', 'G_Loss'])"
   ]
  },
  {
   "cell_type": "markdown",
   "metadata": {},
   "source": [
    "Parameters:\n",
    "\n",
    "    self.generator_layers = [self.apifeature_dims+self.z_dims, 256, 512, 1024 , self.apifeature_dims]\n",
    "\n",
    "    self.substitute_detector_layers = [self.apifeature_dims, 512, 512，1]"
   ]
  },
  {
   "cell_type": "code",
   "execution_count": 11,
   "metadata": {},
   "outputs": [],
   "source": [
    "Ensemble_Comparison_Two_Layer = {\n",
    "    'SVM': [0.07383258640766144, 95.3125, 1.0665416994015686e-05],\n",
    "    'MLP': [0.09897643746808171, 95.3125, 8.149952464009402e-07],\n",
    "    'Ensem': [0.04605168630951084, 100.0, 1.0302957889507525e-05],\n",
    "}"
   ]
  },
  {
   "cell_type": "code",
   "execution_count": 12,
   "metadata": {},
   "outputs": [
    {
     "data": {
      "text/html": [
       "<div>\n",
       "<style scoped>\n",
       "    .dataframe tbody tr th:only-of-type {\n",
       "        vertical-align: middle;\n",
       "    }\n",
       "\n",
       "    .dataframe tbody tr th {\n",
       "        vertical-align: top;\n",
       "    }\n",
       "\n",
       "    .dataframe thead th {\n",
       "        text-align: right;\n",
       "    }\n",
       "</style>\n",
       "<table border=\"1\" class=\"dataframe\">\n",
       "  <thead>\n",
       "    <tr style=\"text-align: right;\">\n",
       "      <th></th>\n",
       "      <th>SVM</th>\n",
       "      <th>MLP</th>\n",
       "      <th>Ensem</th>\n",
       "    </tr>\n",
       "  </thead>\n",
       "  <tbody>\n",
       "    <tr>\n",
       "      <th>D_Loss</th>\n",
       "      <td>0.073833</td>\n",
       "      <td>9.897644e-02</td>\n",
       "      <td>0.046052</td>\n",
       "    </tr>\n",
       "    <tr>\n",
       "      <th>ACC</th>\n",
       "      <td>95.312500</td>\n",
       "      <td>9.531250e+01</td>\n",
       "      <td>100.000000</td>\n",
       "    </tr>\n",
       "    <tr>\n",
       "      <th>G_Loss</th>\n",
       "      <td>0.000011</td>\n",
       "      <td>8.149952e-07</td>\n",
       "      <td>0.000010</td>\n",
       "    </tr>\n",
       "  </tbody>\n",
       "</table>\n",
       "</div>"
      ],
      "text/plain": [
       "              SVM           MLP       Ensem\n",
       "D_Loss   0.073833  9.897644e-02    0.046052\n",
       "ACC     95.312500  9.531250e+01  100.000000\n",
       "G_Loss   0.000011  8.149952e-07    0.000010"
      ]
     },
     "execution_count": 12,
     "metadata": {},
     "output_type": "execute_result"
    }
   ],
   "source": [
    "pd.DataFrame(Ensemble_Comparison_Two_Layer, index = ['D_Loss', 'ACC', 'G_Loss'])"
   ]
  },
  {
   "cell_type": "markdown",
   "metadata": {},
   "source": [
    "## Test on Ensemble Classifier with Malware"
   ]
  },
  {
   "cell_type": "code",
   "execution_count": null,
   "metadata": {},
   "outputs": [],
   "source": [
    "Parameters:\n",
    "\n",
    "    self.generator_layers = [self.apifeature_dims+self.z_dims, 256, 512, 1024 , self.apifeature_dims]\n",
    "\n",
    "    self.substitute_detector_layers = [self.apifeature_dims, 512, 512，1]"
   ]
  },
  {
   "cell_type": "code",
   "execution_count": 13,
   "metadata": {},
   "outputs": [],
   "source": [
    "Ensemble_Comparison_Two_Layer_Malware = {\n",
    "    'SVM': [0.06019804626703262, 100.0, 0.0018579576862975955],\n",
    "    'MLP': [0.1914462000131607, 89.0625, 1.2675385505644954e-06],\n",
    "    'Ensem': [0.227969191968441, 87.5, 0.0003518983139656484],\n",
    "}"
   ]
  },
  {
   "cell_type": "code",
   "execution_count": 14,
   "metadata": {},
   "outputs": [
    {
     "data": {
      "text/html": [
       "<div>\n",
       "<style scoped>\n",
       "    .dataframe tbody tr th:only-of-type {\n",
       "        vertical-align: middle;\n",
       "    }\n",
       "\n",
       "    .dataframe tbody tr th {\n",
       "        vertical-align: top;\n",
       "    }\n",
       "\n",
       "    .dataframe thead th {\n",
       "        text-align: right;\n",
       "    }\n",
       "</style>\n",
       "<table border=\"1\" class=\"dataframe\">\n",
       "  <thead>\n",
       "    <tr style=\"text-align: right;\">\n",
       "      <th></th>\n",
       "      <th>SVM</th>\n",
       "      <th>MLP</th>\n",
       "      <th>Ensem</th>\n",
       "    </tr>\n",
       "  </thead>\n",
       "  <tbody>\n",
       "    <tr>\n",
       "      <th>D_Loss</th>\n",
       "      <td>0.060198</td>\n",
       "      <td>0.191446</td>\n",
       "      <td>0.227969</td>\n",
       "    </tr>\n",
       "    <tr>\n",
       "      <th>ACC</th>\n",
       "      <td>100.000000</td>\n",
       "      <td>89.062500</td>\n",
       "      <td>87.500000</td>\n",
       "    </tr>\n",
       "    <tr>\n",
       "      <th>G_Loss</th>\n",
       "      <td>0.001858</td>\n",
       "      <td>0.000001</td>\n",
       "      <td>0.000352</td>\n",
       "    </tr>\n",
       "  </tbody>\n",
       "</table>\n",
       "</div>"
      ],
      "text/plain": [
       "               SVM        MLP      Ensem\n",
       "D_Loss    0.060198   0.191446   0.227969\n",
       "ACC     100.000000  89.062500  87.500000\n",
       "G_Loss    0.001858   0.000001   0.000352"
      ]
     },
     "execution_count": 14,
     "metadata": {},
     "output_type": "execute_result"
    }
   ],
   "source": [
    "pd.DataFrame(Ensemble_Comparison_Two_Layer_Malware, index = ['D_Loss', 'ACC', 'G_Loss'])"
   ]
  },
  {
   "cell_type": "markdown",
   "metadata": {},
   "source": [
    "Parameters:\n",
    "    \n",
    "    self.generator_layers = [self.apifeature_dims+self.z_dims, 64, 64, 128 , self.apifeature_dims]\n",
    "    \n",
    "    self.substitute_detector_layers = [self.apifeature_dims, 64, 64, 64, 1]"
   ]
  },
  {
   "cell_type": "code",
   "execution_count": 5,
   "metadata": {},
   "outputs": [],
   "source": [
    "Ensemble_Comparison_Two_Layer_Smaller_Units_Malware = {\n",
    "    'SVM': [0.09068786725401878, 95.3125, 9.215701766152051e-07],\n",
    "    'MLP': [0.3209685608744621, 84.375, 2.0628694983315654e-05],\n",
    "    'Ensem': [0.22809869050979614, 87.5, 0.014765027910470963],\n",
    "}"
   ]
  },
  {
   "cell_type": "code",
   "execution_count": 6,
   "metadata": {},
   "outputs": [
    {
     "data": {
      "text/html": [
       "<div>\n",
       "<style scoped>\n",
       "    .dataframe tbody tr th:only-of-type {\n",
       "        vertical-align: middle;\n",
       "    }\n",
       "\n",
       "    .dataframe tbody tr th {\n",
       "        vertical-align: top;\n",
       "    }\n",
       "\n",
       "    .dataframe thead th {\n",
       "        text-align: right;\n",
       "    }\n",
       "</style>\n",
       "<table border=\"1\" class=\"dataframe\">\n",
       "  <thead>\n",
       "    <tr style=\"text-align: right;\">\n",
       "      <th></th>\n",
       "      <th>SVM</th>\n",
       "      <th>MLP</th>\n",
       "      <th>Ensem</th>\n",
       "    </tr>\n",
       "  </thead>\n",
       "  <tbody>\n",
       "    <tr>\n",
       "      <th>D_Loss</th>\n",
       "      <td>9.068787e-02</td>\n",
       "      <td>0.320969</td>\n",
       "      <td>0.228099</td>\n",
       "    </tr>\n",
       "    <tr>\n",
       "      <th>ACC</th>\n",
       "      <td>9.531250e+01</td>\n",
       "      <td>84.375000</td>\n",
       "      <td>87.500000</td>\n",
       "    </tr>\n",
       "    <tr>\n",
       "      <th>G_Loss</th>\n",
       "      <td>9.215702e-07</td>\n",
       "      <td>0.000021</td>\n",
       "      <td>0.014765</td>\n",
       "    </tr>\n",
       "  </tbody>\n",
       "</table>\n",
       "</div>"
      ],
      "text/plain": [
       "                 SVM        MLP      Ensem\n",
       "D_Loss  9.068787e-02   0.320969   0.228099\n",
       "ACC     9.531250e+01  84.375000  87.500000\n",
       "G_Loss  9.215702e-07   0.000021   0.014765"
      ]
     },
     "execution_count": 6,
     "metadata": {},
     "output_type": "execute_result"
    }
   ],
   "source": [
    "pd.DataFrame(Ensemble_Comparison_Two_Layer_Smaller_Units_Malware, index = ['D_Loss', 'ACC', 'G_Loss'])"
   ]
  },
  {
   "cell_type": "markdown",
   "metadata": {},
   "source": [
    "Parameters:\n",
    "    \n",
    "    self.generator_layers = [self.apifeature_dims+self.z_dims, 256, 512, 1024 , self.apifeature_dims]\n",
    "    \n",
    "    self.substitute_detector_layers = [self.apifeature_dims, 512, 512, 512, 1]"
   ]
  },
  {
   "cell_type": "code",
   "execution_count": 10,
   "metadata": {},
   "outputs": [],
   "source": [
    "Ensemble_Comparison_Three_Layers_Malware = {\n",
    "    'SVM': [0.058258047327399254, 98.4375, 2.630974336170766e-07],\n",
    "    'MLP': [0.17800971865653992, 93.75, 4.509088284976315e-06],\n",
    "    'Ensem': [ 0.13576413318514824, 95.3125, 2.16914554584946e-06],\n",
    "}"
   ]
  },
  {
   "cell_type": "code",
   "execution_count": 9,
   "metadata": {},
   "outputs": [
    {
     "data": {
      "text/html": [
       "<div>\n",
       "<style scoped>\n",
       "    .dataframe tbody tr th:only-of-type {\n",
       "        vertical-align: middle;\n",
       "    }\n",
       "\n",
       "    .dataframe tbody tr th {\n",
       "        vertical-align: top;\n",
       "    }\n",
       "\n",
       "    .dataframe thead th {\n",
       "        text-align: right;\n",
       "    }\n",
       "</style>\n",
       "<table border=\"1\" class=\"dataframe\">\n",
       "  <thead>\n",
       "    <tr style=\"text-align: right;\">\n",
       "      <th></th>\n",
       "      <th>SVM</th>\n",
       "      <th>MLP</th>\n",
       "      <th>Ensem</th>\n",
       "    </tr>\n",
       "  </thead>\n",
       "  <tbody>\n",
       "    <tr>\n",
       "      <th>D_Loss</th>\n",
       "      <td>5.825805e-02</td>\n",
       "      <td>0.178010</td>\n",
       "      <td>0.135764</td>\n",
       "    </tr>\n",
       "    <tr>\n",
       "      <th>ACC</th>\n",
       "      <td>9.843750e+01</td>\n",
       "      <td>93.750000</td>\n",
       "      <td>95.312500</td>\n",
       "    </tr>\n",
       "    <tr>\n",
       "      <th>G_Loss</th>\n",
       "      <td>2.630974e-07</td>\n",
       "      <td>0.000005</td>\n",
       "      <td>0.000002</td>\n",
       "    </tr>\n",
       "  </tbody>\n",
       "</table>\n",
       "</div>"
      ],
      "text/plain": [
       "                 SVM        MLP      Ensem\n",
       "D_Loss  5.825805e-02   0.178010   0.135764\n",
       "ACC     9.843750e+01  93.750000  95.312500\n",
       "G_Loss  2.630974e-07   0.000005   0.000002"
      ]
     },
     "execution_count": 9,
     "metadata": {},
     "output_type": "execute_result"
    }
   ],
   "source": [
    "pd.DataFrame(Ensemble_Comparison_Three_Layers_Malware, index = ['D_Loss', 'ACC', 'G_Loss'])"
   ]
  },
  {
   "cell_type": "code",
   "execution_count": null,
   "metadata": {},
   "outputs": [],
   "source": []
  }
 ],
 "metadata": {
  "kernelspec": {
   "display_name": "Python 3.8.1 64-bit",
   "language": "python",
   "name": "python38164bitdbd76ed984a5488496eb976b9e8b3b8e"
  },
  "language_info": {
   "codemirror_mode": {
    "name": "ipython",
    "version": 3
   },
   "file_extension": ".py",
   "mimetype": "text/x-python",
   "name": "python",
   "nbconvert_exporter": "python",
   "pygments_lexer": "ipython3",
   "version": "3.8.1"
  }
 },
 "nbformat": 4,
 "nbformat_minor": 4
}
