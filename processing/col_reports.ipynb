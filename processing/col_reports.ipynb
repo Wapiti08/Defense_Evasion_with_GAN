{
 "cells": [
  {
   "cell_type": "code",
   "execution_count": 58,
   "metadata": {},
   "outputs": [],
   "source": [
    "import pandas\n",
    "import json\n",
    "from pathlib import Path\n",
    "import os"
   ]
  },
  {
   "cell_type": "code",
   "execution_count": 111,
   "metadata": {},
   "outputs": [],
   "source": [
    "def effi_rate(path):\n",
    "    i,j = 0,0\n",
    "    for _, dirnames, filenames in os.walk(path):\n",
    "        if 'reports' in dirnames:\n",
    "            j += 1\n",
    "        else:\n",
    "            pass\n",
    "        if \"report.json\" in filenames:\n",
    "            i +=1\n",
    "        else:\n",
    "            pass\n",
    "    print(\"The result is {} and the total number is {}, the efficient rate is {}\".format(i,j, i/j))\n",
    "    return i/j, i"
   ]
  },
  {
   "cell_type": "code",
   "execution_count": 112,
   "metadata": {},
   "outputs": [
    {
     "name": "stdout",
     "output_type": "stream",
     "text": [
      "The result is 142 and the total number is 246, the efficient rate is 0.5772357723577236\n",
      "The result is 133 and the total number is 142, the efficient rate is 0.9366197183098591\n",
      "The result is 31 and the total number is 36, the efficient rate is 0.8611111111111112\n",
      "The result is 27 and the total number is 27, the efficient rate is 1.0\n"
     ]
    }
   ],
   "source": [
    "# load the reports\n",
    "rate_normal, num_nor = effi_rate(\"../dataset/normal\")\n",
    "rate_crypto, num_cry = effi_rate(\"../dataset/crypto\")\n",
    "rate_locker, num_loc = effi_rate(\"../dataset/locker\")\n",
    "rate_wann, num_wan = effi_rate(\"../dataset/wann\")"
   ]
  },
  {
   "cell_type": "code",
   "execution_count": 113,
   "metadata": {},
   "outputs": [
    {
     "name": "stdout",
     "output_type": "stream",
     "text": [
      "191\n",
      "142\n"
     ]
    }
   ],
   "source": [
    "num_ransom = num_wan + num_loc + num_cry\n",
    "num_normal = num_nor\n",
    "print(num_ransom)\n",
    "print(num_normal)"
   ]
  },
  {
   "cell_type": "code",
   "execution_count": 107,
   "metadata": {},
   "outputs": [],
   "source": [
    "def report_collection(paths, path_des):\n",
    "    i=0\n",
    "    for path in paths:\n",
    "        for root, dirnames, filenames in os.walk(path):\n",
    "            if \"report.json\" in filenames:\n",
    "                filename = 'report'+str(i)+'.json'\n",
    "                filepath = Path(\"E:\\Analysis-on-GAN\\dataset\"+\"\\\\\"+path_des).joinpath(filename).as_posix()\n",
    "                with open(filepath,'w') as fw:\n",
    "                    with open(Path(root).joinpath(\"report.json\").as_posix(),'r') as fr:\n",
    "                        data = fr.read()\n",
    "                        fw.write(data)\n",
    "                i += 1\n"
   ]
  },
  {
   "cell_type": "code",
   "execution_count": 90,
   "metadata": {},
   "outputs": [],
   "source": [
    "# copy the malware\n",
    "paths = [\"D:\\\\wannacry\", \"D:\\\\Crypto\", \"D:\\\\Locker\"]\n",
    "path_des = \"mali\"\n",
    "report_collection(paths, path_des)"
   ]
  },
  {
   "cell_type": "code",
   "execution_count": 108,
   "metadata": {},
   "outputs": [],
   "source": [
    "# copy the normal \n",
    "paths = ['D:\\\\normal']\n",
    "path_des = \"benign\"\n",
    "report_collection(paths,path_des)"
   ]
  }
 ],
 "metadata": {
  "file_extension": ".py",
  "kernelspec": {
   "display_name": "Python 3.7.3 64-bit ('Anaconda': conda)",
   "language": "python",
   "name": "python37364bitanacondaconda7d2a58f2186c46a48262f09d92e49dd0"
  },
  "language_info": {
   "codemirror_mode": {
    "name": "ipython",
    "version": 3
   },
   "file_extension": ".py",
   "mimetype": "text/x-python",
   "name": "python",
   "nbconvert_exporter": "python",
   "pygments_lexer": "ipython3",
   "version": "3.7.3"
  },
  "mimetype": "text/x-python",
  "name": "python",
  "npconvert_exporter": "python",
  "pygments_lexer": "ipython3",
  "version": 3
 },
 "nbformat": 4,
 "nbformat_minor": 2
}
