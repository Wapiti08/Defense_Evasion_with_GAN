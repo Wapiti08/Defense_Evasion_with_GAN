{
 "cells": [
  {
   "cell_type": "markdown",
   "metadata": {},
   "source": [
    "#### Adversarial Attack by Adding Noise only"
   ]
  },
  {
   "cell_type": "code",
   "execution_count": 1,
   "metadata": {},
   "outputs": [],
   "source": [
    "# build basic binary classification model\n",
    "\n",
    "from keras import Sequential\n",
    "from keras import layers \n",
    "from keras.callbacks import EarlyStopping\n",
    "def create_model(input_dim):\n",
    "    model = Sequential()\n",
    "    model.add(layers.Dense(32, input_dim=input_dim, activation='relu'))\n",
    "    model.add(layers.Dense(32, activation='relu'))\n",
    "    model.add(layers.Dense(1, activation='sigmoid'))\n",
    "    model.compile(loss='binary_crossentropy', optimizer='adam', metrics=['accuracy'])\n",
    "    \n",
    "    return model\n",
    "\n",
    "\n"
   ]
  },
  {
   "cell_type": "code",
   "execution_count": 2,
   "metadata": {},
   "outputs": [],
   "source": [
    "# test on occurence dataset\n",
    "import numpy as np\n",
    "\n",
    "# X = np.loadtxt('../dataset/matrix/X_occ.csv')\n",
    "# X = np.loadtxt('../dataset/matrix/X_fs.csv')\n",
    "# X = np.loadtxt('../dataset/matrix/X_str.csv')\n",
    "X = np.loadtxt('../dataset/matrix/X_tf_idf_sen.csv')\n",
    "# X = np.loadtxt('../dataset/matrix/X_tf_idf_token.csv')"
   ]
  },
  {
   "cell_type": "code",
   "execution_count": 3,
   "metadata": {},
   "outputs": [
    {
     "data": {
      "text/plain": [
       "(321, 125326)"
      ]
     },
     "execution_count": 3,
     "metadata": {},
     "output_type": "execute_result"
    }
   ],
   "source": [
    "X.shape"
   ]
  },
  {
   "cell_type": "code",
   "execution_count": 5,
   "metadata": {},
   "outputs": [],
   "source": [
    "Y = np.loadtxt('../dataset/matrix/Y_str.csv')\n"
   ]
  },
  {
   "cell_type": "code",
   "execution_count": 6,
   "metadata": {},
   "outputs": [
    {
     "name": "stdout",
     "output_type": "stream",
     "text": [
      "Epoch 1/50\n",
      "14/14 - 1s - loss: 0.6705 - accuracy: 0.6569 - val_loss: 0.6477 - val_accuracy: 0.7308 - 922ms/epoch - 66ms/step\n",
      "Epoch 2/50\n",
      "14/14 - 0s - loss: 0.5598 - accuracy: 0.8971 - val_loss: 0.5787 - val_accuracy: 0.7500 - 258ms/epoch - 18ms/step\n",
      "Epoch 3/50\n",
      "14/14 - 0s - loss: 0.4214 - accuracy: 0.9559 - val_loss: 0.5152 - val_accuracy: 0.7885 - 283ms/epoch - 20ms/step\n",
      "Epoch 4/50\n",
      "14/14 - 0s - loss: 0.2945 - accuracy: 0.9706 - val_loss: 0.4596 - val_accuracy: 0.8077 - 265ms/epoch - 19ms/step\n",
      "Epoch 5/50\n",
      "14/14 - 0s - loss: 0.1962 - accuracy: 0.9706 - val_loss: 0.4126 - val_accuracy: 0.8462 - 298ms/epoch - 21ms/step\n",
      "Epoch 6/50\n",
      "14/14 - 0s - loss: 0.1313 - accuracy: 0.9755 - val_loss: 0.3698 - val_accuracy: 0.9038 - 275ms/epoch - 20ms/step\n",
      "Epoch 7/50\n",
      "14/14 - 0s - loss: 0.0878 - accuracy: 0.9755 - val_loss: 0.3403 - val_accuracy: 0.8846 - 270ms/epoch - 19ms/step\n",
      "Epoch 8/50\n",
      "14/14 - 0s - loss: 0.0642 - accuracy: 0.9902 - val_loss: 0.3194 - val_accuracy: 0.8846 - 280ms/epoch - 20ms/step\n",
      "Epoch 9/50\n",
      "14/14 - 0s - loss: 0.0491 - accuracy: 0.9951 - val_loss: 0.3071 - val_accuracy: 0.8846 - 290ms/epoch - 21ms/step\n",
      "Epoch 10/50\n",
      "14/14 - 0s - loss: 0.0399 - accuracy: 0.9951 - val_loss: 0.3068 - val_accuracy: 0.8269 - 262ms/epoch - 19ms/step\n",
      "Epoch 11/50\n",
      "14/14 - 0s - loss: 0.0338 - accuracy: 0.9951 - val_loss: 0.3042 - val_accuracy: 0.8269 - 247ms/epoch - 18ms/step\n",
      "Epoch 12/50\n",
      "14/14 - 0s - loss: 0.0293 - accuracy: 0.9951 - val_loss: 0.3018 - val_accuracy: 0.8077 - 267ms/epoch - 19ms/step\n",
      "Epoch 13/50\n",
      "14/14 - 0s - loss: 0.0261 - accuracy: 0.9951 - val_loss: 0.3062 - val_accuracy: 0.8077 - 316ms/epoch - 23ms/step\n",
      "Epoch 14/50\n",
      "14/14 - 0s - loss: 0.0238 - accuracy: 0.9951 - val_loss: 0.3076 - val_accuracy: 0.8077 - 294ms/epoch - 21ms/step\n",
      "Epoch 15/50\n",
      "14/14 - 0s - loss: 0.0219 - accuracy: 0.9951 - val_loss: 0.3117 - val_accuracy: 0.8269 - 269ms/epoch - 19ms/step\n",
      "Epoch 16/50\n",
      "14/14 - 0s - loss: 0.0205 - accuracy: 0.9951 - val_loss: 0.3228 - val_accuracy: 0.8269 - 282ms/epoch - 20ms/step\n",
      "Epoch 17/50\n",
      "14/14 - 0s - loss: 0.0196 - accuracy: 0.9951 - val_loss: 0.3295 - val_accuracy: 0.8269 - 295ms/epoch - 21ms/step\n",
      "Epoch 18/50\n",
      "14/14 - 0s - loss: 0.0187 - accuracy: 0.9951 - val_loss: 0.3299 - val_accuracy: 0.8269 - 280ms/epoch - 20ms/step\n",
      "Epoch 19/50\n",
      "14/14 - 0s - loss: 0.0179 - accuracy: 0.9951 - val_loss: 0.3245 - val_accuracy: 0.8269 - 317ms/epoch - 23ms/step\n"
     ]
    }
   ],
   "source": [
    "# Create model and train\n",
    "model = create_model(X.shape[1])\n",
    "model.compile(loss='binary_crossentropy', \n",
    "               optimizer='adam', \n",
    "               metrics=['accuracy'])\n",
    "\n",
    "# normalization\n",
    "# from sklearn.preprocessing import Normalizer\n",
    "\n",
    "# transformer = Normalizer().fit(X)\n",
    "# X = transformer.transform(X)\n",
    "\n",
    "\n",
    "from sklearn.model_selection import train_test_split\n",
    "\n",
    "X_train, X_test, y_train, y_test = train_test_split(X, Y, test_size=0.2, random_state=42, shuffle=True)\n",
    "\n",
    "history = model.fit(X_train, y_train, epochs=50, validation_split=0.2, shuffle=True, \n",
    "                batch_size=15, verbose=2, callbacks= [EarlyStopping('accuracy', patience=10)])"
   ]
  },
  {
   "cell_type": "code",
   "execution_count": 7,
   "metadata": {},
   "outputs": [
    {
     "name": "stdout",
     "output_type": "stream",
     "text": [
      "0.8769230842590332\n"
     ]
    }
   ],
   "source": [
    "# test the accuracy on test dataset\n",
    "\n",
    "_, acc_real = model.evaluate(X_test, y_test, verbose=0)\n",
    "print(acc_real)"
   ]
  },
  {
   "cell_type": "code",
   "execution_count": null,
   "metadata": {},
   "outputs": [],
   "source": []
  }
 ],
 "metadata": {
  "interpreter": {
   "hash": "8fecd871876602184e2def9d040398806a20c493ba8c7291bbd5a5358628e6cd"
  },
  "kernelspec": {
   "display_name": "Python 3.8.1 64-bit",
   "language": "python",
   "name": "python3"
  },
  "language_info": {
   "codemirror_mode": {
    "name": "ipython",
    "version": 3
   },
   "file_extension": ".py",
   "mimetype": "text/x-python",
   "name": "python",
   "nbconvert_exporter": "python",
   "pygments_lexer": "ipython3",
   "version": "3.8.1"
  },
  "orig_nbformat": 4
 },
 "nbformat": 4,
 "nbformat_minor": 2
}
