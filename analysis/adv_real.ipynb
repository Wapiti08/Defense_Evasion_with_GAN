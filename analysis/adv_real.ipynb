{
 "cells": [
  {
   "cell_type": "markdown",
   "metadata": {},
   "source": [
    "#### Adversarial Attack by Adding Noise only"
   ]
  },
  {
   "cell_type": "code",
   "execution_count": 8,
   "metadata": {},
   "outputs": [],
   "source": [
    "# build basic binary classification model\n",
    "\n",
    "from keras import Sequential\n",
    "from keras import layers \n",
    "from keras.callbacks import EarlyStopping\n",
    "def create_model(input_dim):\n",
    "    model = Sequential()\n",
    "    model.add(layers.Dense(32, input_dim=input_dim, activation='relu'))\n",
    "    model.add(layers.Dense(32, activation='relu'))\n",
    "    model.add(layers.Dense(1, activation='sigmoid'))\n",
    "    model.compile(loss='binary_crossentropy', optimizer='adam', metrics=['accuracy'])\n",
    "    \n",
    "    return model\n",
    "\n",
    "\n"
   ]
  },
  {
   "cell_type": "code",
   "execution_count": 9,
   "metadata": {},
   "outputs": [],
   "source": [
    "# test on occurence dataset\n",
    "import numpy as np\n",
    "\n",
    "# X = np.loadtxt('../dataset/matrix/X_occ.csv')\n",
    "# X = np.loadtxt('../dataset/matrix/X_fs.csv')\n",
    "# X = np.loadtxt('../dataset/matrix/X_str.csv')\n",
    "X = np.loadtxt('../dataset/matrix/X_tf_idf_sen.csv')\n",
    "# X = np.loadtxt('../dataset/matrix/X_tf_idf_token.csv')"
   ]
  },
  {
   "cell_type": "code",
   "execution_count": 10,
   "metadata": {},
   "outputs": [
    {
     "data": {
      "text/plain": [
       "(321, 2068)"
      ]
     },
     "execution_count": 10,
     "metadata": {},
     "output_type": "execute_result"
    }
   ],
   "source": [
    "X.shape"
   ]
  },
  {
   "cell_type": "code",
   "execution_count": 11,
   "metadata": {},
   "outputs": [],
   "source": [
    "Y = np.loadtxt('../dataset/matrix/Y_str.csv')\n"
   ]
  },
  {
   "cell_type": "code",
   "execution_count": 12,
   "metadata": {},
   "outputs": [
    {
     "name": "stdout",
     "output_type": "stream",
     "text": [
      "Epoch 1/50\n",
      "14/14 - 1s - loss: 0.6924 - accuracy: 0.5539 - val_loss: 0.6905 - val_accuracy: 0.5769 - 578ms/epoch - 41ms/step\n",
      "Epoch 2/50\n",
      "14/14 - 0s - loss: 0.6903 - accuracy: 0.5539 - val_loss: 0.6882 - val_accuracy: 0.5769 - 38ms/epoch - 3ms/step\n",
      "Epoch 3/50\n",
      "14/14 - 0s - loss: 0.6879 - accuracy: 0.5539 - val_loss: 0.6866 - val_accuracy: 0.5769 - 42ms/epoch - 3ms/step\n",
      "Epoch 4/50\n",
      "14/14 - 0s - loss: 0.6868 - accuracy: 0.5539 - val_loss: 0.6848 - val_accuracy: 0.5769 - 83ms/epoch - 6ms/step\n",
      "Epoch 5/50\n",
      "14/14 - 0s - loss: 0.6852 - accuracy: 0.5539 - val_loss: 0.6842 - val_accuracy: 0.5769 - 46ms/epoch - 3ms/step\n",
      "Epoch 6/50\n",
      "14/14 - 0s - loss: 0.6845 - accuracy: 0.5539 - val_loss: 0.6830 - val_accuracy: 0.5769 - 48ms/epoch - 3ms/step\n",
      "Epoch 7/50\n",
      "14/14 - 0s - loss: 0.6843 - accuracy: 0.5539 - val_loss: 0.6823 - val_accuracy: 0.5769 - 43ms/epoch - 3ms/step\n",
      "Epoch 8/50\n",
      "14/14 - 0s - loss: 0.6836 - accuracy: 0.5539 - val_loss: 0.6819 - val_accuracy: 0.5769 - 42ms/epoch - 3ms/step\n",
      "Epoch 9/50\n",
      "14/14 - 0s - loss: 0.6837 - accuracy: 0.5539 - val_loss: 0.6822 - val_accuracy: 0.5769 - 45ms/epoch - 3ms/step\n",
      "Epoch 10/50\n",
      "14/14 - 0s - loss: 0.6834 - accuracy: 0.5539 - val_loss: 0.6824 - val_accuracy: 0.5769 - 55ms/epoch - 4ms/step\n",
      "Epoch 11/50\n",
      "14/14 - 0s - loss: 0.6829 - accuracy: 0.5539 - val_loss: 0.6816 - val_accuracy: 0.5769 - 48ms/epoch - 3ms/step\n"
     ]
    }
   ],
   "source": [
    "# Create model and train\n",
    "model = create_model(X.shape[1])\n",
    "model.compile(loss='binary_crossentropy', \n",
    "               optimizer='adam', \n",
    "               metrics=['accuracy'])\n",
    "\n",
    "# normalization\n",
    "# from sklearn.preprocessing import Normalizer\n",
    "\n",
    "# transformer = Normalizer().fit(X)\n",
    "# X = transformer.transform(X)\n",
    "\n",
    "\n",
    "from sklearn.model_selection import train_test_split\n",
    "\n",
    "X_train, X_test, y_train, y_test = train_test_split(X, Y, test_size=0.2, random_state=42, shuffle=True)\n",
    "\n",
    "history = model.fit(X_train, y_train, epochs=50, validation_split=0.2, shuffle=True, \n",
    "                batch_size=15, verbose=2, callbacks= [EarlyStopping('accuracy', patience=10)])"
   ]
  },
  {
   "cell_type": "code",
   "execution_count": 13,
   "metadata": {},
   "outputs": [
    {
     "name": "stdout",
     "output_type": "stream",
     "text": [
      "0.5538461804389954\n"
     ]
    }
   ],
   "source": [
    "# test the accuracy on test dataset\n",
    "\n",
    "_, acc_real = model.evaluate(X_test, y_test, verbose=0)\n",
    "print(acc_real)"
   ]
  },
  {
   "cell_type": "code",
   "execution_count": null,
   "metadata": {},
   "outputs": [],
   "source": []
  }
 ],
 "metadata": {
  "interpreter": {
   "hash": "8fecd871876602184e2def9d040398806a20c493ba8c7291bbd5a5358628e6cd"
  },
  "kernelspec": {
   "display_name": "Python 3.8.1 64-bit",
   "language": "python",
   "name": "python3"
  },
  "language_info": {
   "codemirror_mode": {
    "name": "ipython",
    "version": 3
   },
   "file_extension": ".py",
   "mimetype": "text/x-python",
   "name": "python",
   "nbconvert_exporter": "python",
   "pygments_lexer": "ipython3",
   "version": "3.8.1"
  },
  "orig_nbformat": 4
 },
 "nbformat": 4,
 "nbformat_minor": 2
}
